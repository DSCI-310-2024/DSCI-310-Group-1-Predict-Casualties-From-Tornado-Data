


























library(repr)
library(tidyverse)
library(tidymodels)
library(psych)
library(GGally)





# Load data
URL <- "https://raw.githubusercontent.com/rfordatascience/tidytuesday/a9e277dd77331e9091e151bb5adb584742064b3e/data/2023/2023-05-16/tornados.csv"
tornado_data <- read.csv(URL)

head(tornado_data)





sapply(tornado_data, function(x) sum(is.na(x)))





# Wrangle and clean data

# Remove irrelevant or repetitive columns, and filter for NA in magnitude
df <- tornado_data %>%
    select(-date, -tz, -stf, -sn, -f1, -f2, -f3, -f4, -fc, -loss) %>%
    filter(!is.na(mag)) 

# Change feature names to be more descriptive
names(df) <- c('ID','year','month','day','time','datetime_utc','state','mag','injuries',
               'fatalities','start_lat','start_lon','end_lat','end_lon','length','width','ns')

head(df)





# This is to export cleaned data frame to new csv file
#write_csv(df, "C:\\Users\\Erika\\DSCI-310-Group-1-Predict-Casualties-From-Tornado-Data\\data\\processed\\cleaned_tornado_data.csv")








describe(df[, c('mag', 'injuries', 'fatalities', 'start_lat', 'start_lon', 'end_lat', 'end_lon', 
                'length', 'width', 'ns')], fast = TRUE)





options(repr.plot.width = 15, repr.plot.height = 15)

correlations_plot <- df %>%
    ggpairs(
        columns = c("mag", "fatalities", "length", "width"), 
        lower = list(
            continuous = "smooth", 
            combo = wrap("facethist", binwidth = 2)),
            title = "Correlations plot of important numerical features and target") +
    theme(plot.title = element_text(size = 22, hjust = 0.5))
correlations_plot





fatalities_width_scatterplot = ggplot(df, aes(x = width, y = fatalities)) +
    geom_point(alpha = 0.4) +
    xlab("Width (yards) of tornados") +
    ylab("Fatalities") +
    theme(text = element_text(size = 14), plot.title = element_text(hjust = 0.5)) + 
    ggtitle("Scatterplot of width of tornado and fatalities")
fatalities_width_scatterplot


fatalities_length_scatterplot = ggplot(df, aes(x = length, y = fatalities)) +
    geom_point(alpha = 0.4) +
    xlab("Length (miles) of tornados") +
    ylab("Fatalities") +
    theme(text = element_text(size = 14), plot.title = element_text(hjust = 0.5)) + 
    ggtitle("Scatterplot of length of tornado and fatalities")
fatalities_length_scatterplot











set.seed(2000)

data_split <- initial_split(df, prop = 0.75, strata = fatalities)
train_df <- training(data_split)
test_df <- testing(data_split)





# specify prediction model
lm_spec <- linear_reg() |>
  set_engine("lm") |>
  set_mode("regression")

# specify recipe
lm_recipe <- recipe(fatalities ~ length + width, data = df)

# fit the model based on the recipe, specification and training data
lm_fit <- workflow() |>
  add_recipe(lm_recipe) |>
  add_model(lm_spec) |>
  fit(data = train_df)

lm_fit





# Use lm_fit to predict on test_df and output RMSPE to assess model's test error
lm_test_results <- lm_fit |>
  predict(test_df) |>
  bind_cols(test_df) |>
  metrics(truth = fatalities, estimate = .pred)

lm_test_results





# Creating plots showing accuracy of linear regression model
fatal_rsmpe <- lm_test_results |>
    filter(.metric == "rmse") |>
    select(.estimate) |>
    pull()

fatal_predictions <- lm_fit |>
    predict(test_df) |>
    bind_cols(test_df)

options(repr.plot.width = 8, repr.plot.height = 8)

## Note: Red line represents where points would be plotted if the model was 100% accurate
fatal_model_viz <- ggplot(fatal_predictions, aes(x = fatalities, y = .pred)) +
    geom_point(alpha = 0.6) +
    # geom_line(data = fatal_predictions,
    #        mapping = aes(x = fatalities, y = .pred),
    #        color = "steelblue",
    #        linewidth = 1) +
    geom_abline(intercept = 0, slope = 1, color = "red", linetype = "dashed", linewidth = 2)+
    scale_x_continuous(trans = "log10") + 
    xlab("Actual Number of Fatalities") +
    ylab("Predicted Number of Fatalities") +
    ggtitle("Actual Number of Fatalities vs Predicted Number of Fatalities") +
    theme(text = element_text(size = 15))

fatal_model_viz

## Note: Blue line represents predicted values based on our regression model when tornado length = 0
fatal_widths_plot <- ggplot(test_df, aes(x = width, y = fatalities)) +
     geom_point(alpha = 0.4) +
     # geom_line(data = fatal_predictions,
     #       mapping = aes(x = width, y = .pred),
     #       color = "steelblue",
     #       linewidth = 1) +
     geom_abline(intercept = -0.1183680, slope = 0.0007337, color = "steelblue", linewidth = 2) +
     scale_y_continuous(trans = "log10") + 
     xlab("Tornado Width (Yards)") +
     ylab("Fatalities") +
     ggtitle("Fatalities vs Width Plot") +
     theme(text = element_text(size = 15))

fatal_widths_plot

## Note: Blue line represents predicted values based on our regression model when tornado width = 0
fatal_length_plot <- ggplot(test_df, aes(x = length, y = fatalities)) +
     geom_point(alpha = 0.4) +
     # geom_line(data = fatal_predictions,
     #       mapping = aes(x = length, y = .pred),
     #       color = "steelblue",
     #       linewidth = 1) +
     geom_abline(intercept = -0.1183680, slope = 0.0367960, color = "steelblue", linewidth = 2) +
     scale_y_continuous(trans = "log10") + 
     xlab("Tornado Length (Miles)") +
     ylab("Fatalities") +
     ggtitle("Fatalities vs Length Plot") +
     theme(text = element_text(size = 15))

fatal_length_plot





# Checking for outliers

boxplot(df$width, main = "Boxplot of Tornado Widths", ylab = "Values", xlab = "Tornado Width (Yards)")
boxplot(df$length, main = "Boxplot of Tornado Lengths", ylab = "Values", xlab = "Tornado Length (Miles)")
boxplot(df$fatalities, main = "Boxplot of Tornado Fatalities", ylab = "Values", xlab = "Number of Fatalities")





# Removing outliers from data frame
width_upper_fence <- unname(quantile(df$width, 0.75)) + (1.5 * IQR(df$width))
width_lower_fence <- unname(quantile(df$width, 0.25)) - (1.5 * IQR(df$width))

length_upper_fence <- unname(quantile(df$length, 0.75)) + (1.5 * IQR(df$length))
length_lower_fence <- unname(quantile(df$length, 0.25)) - (1.5 * IQR(df$length))

outlierless_df <- df |>
    filter(width <= width_upper_fence) |>
    filter(width >= width_lower_fence) |>
    filter(length <= length_upper_fence) |>
    filter(length >= length_lower_fence)


# ## Creating box plots to confirm outliers have been removed
# boxplot(outlierless_df$width, main = "Boxplot of Tornado Widths", ylab = "Values", xlab = "Tornado Width (Yards)")
# boxplot(outlierless_df$length, main = "Boxplot of Tornado Lengths", ylab = "Values", xlab = "Tornado Length (Miles)")


# Creating new model with the new data frame without outliers

set.seed(2000)

new_data_split <- initial_split(outlierless_df, prop = 0.75, strata = fatalities)
new_train_df <- training(new_data_split)
new_test_df <- testing(new_data_split)

new_lm_spec <- linear_reg() |>
  set_engine("lm") |>
  set_mode("regression")

# specify recipe
new_lm_recipe <- recipe(fatalities ~ length + width, data = outlierless_df)

# fit the model based on the recipe, specification and training data
new_lm_fit <- workflow() |>
  add_recipe(new_lm_recipe) |>
  add_model(new_lm_spec) |>
  fit(data = new_train_df)

new_lm_fit


# Use new_lm_fit to predict on new_test_df and output RMSPE to assess model's test error
new_lm_test_results <- new_lm_fit |>
  predict(new_test_df) |>
  bind_cols(new_test_df) |>
  metrics(truth = fatalities, estimate = .pred)

new_lm_test_results


# Creating plots showing accuracy of new linear regression model
new_fatal_rsmpe <- new_lm_test_results |>
    filter(.metric == "rmse") |>
    select(.estimate) |>
    pull()

new_fatal_predictions <- new_lm_fit |>
    predict(new_test_df) |>
    bind_cols(new_test_df)

options(repr.plot.width = 12, repr.plot.height = 6)

## Note: Red line represents where points would be plotted if the model was 100% accurate
new_fatal_model_viz <- ggplot(new_fatal_predictions, aes(x = fatalities, y = .pred)) +
    geom_point(alpha = 0.6) +
    # geom_line(data = fatal_predictions,
    #        mapping = aes(x = fatalities, y = .pred),
    #        color = "steelblue",
    #        linewidth = 1) +
    geom_abline(intercept = 0, slope = 1, color = "red", linetype = "dashed", linewidth = 2)+
    scale_x_continuous(trans = "log10") + 
    xlab("Actual Number of Fatalities") +
    ylab("Predicted Number of Fatalities") +
    ggtitle("Actual Number of Fatalities vs Predicted Number of Fatalities") +
    theme(text = element_text(size = 15))

new_fatal_model_viz

## Note: Blue line represents predicted values based on our regression model when tornado length = 0
new_fatal_widths_plot <- ggplot(new_test_df, aes(x = width, y = fatalities)) +
     geom_point(alpha = 0.4) +
     # geom_line(data = fatal_predictions,
     #       mapping = aes(x = width, y = .pred),
     #       color = "steelblue",
     #       linewidth = 1) +
     geom_abline(intercept = 0.003074, slope = 0.00004429, color = "steelblue", linewidth = 2) +
     scale_y_continuous(trans = "log10") + 
     xlab("Tornado Width (Yards)") +
     ylab("Fatalities") +
     ggtitle("Fatalities vs Width Plot") +
     theme(text = element_text(size = 15))

new_fatal_widths_plot

## Note: Blue line represents predicted values based on our regression model when tornado width = 0
new_fatal_length_plot <- ggplot(new_test_df, aes(x = length, y = fatalities)) +
     geom_point(alpha = 0.4) +
     # geom_line(data = fatal_predictions,
     #       mapping = aes(x = length, y = .pred),
     #       color = "steelblue",
     #       linewidth = 1) +
     geom_abline(intercept = 0.003074, slope = 0.003195, color = "steelblue", linewidth = 2) +
     scale_y_continuous(trans = "log10") + 
     xlab("Tornado Length (Miles)") +
     ylab("Fatalities") +
     ggtitle("Fatalities vs Length Plot") +
     theme(text = element_text(size = 15))

new_fatal_length_plot













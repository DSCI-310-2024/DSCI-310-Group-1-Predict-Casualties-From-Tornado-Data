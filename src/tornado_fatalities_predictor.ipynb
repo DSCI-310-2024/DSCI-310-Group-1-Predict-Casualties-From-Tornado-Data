{
 "cells": [
  {
   "cell_type": "markdown",
   "id": "903e04f9-d3d0-4a63-94f7-e1ad7e07cdfb",
   "metadata": {},
   "source": [
    "# Predicting Fatalities from Tornado Data (Group 1)"
   ]
  },
  {
   "cell_type": "markdown",
   "id": "6d37b603-d6c6-4569-91f1-6d49d8f6ebf2",
   "metadata": {},
   "source": [
    "**Authors**: Erika Delorme, Marcela Flaherty, Riddha Tuladhar, Edwin Yeung"
   ]
  },
  {
   "cell_type": "markdown",
   "id": "748f8ea1-b5cf-49c4-a891-38058a57a179",
   "metadata": {},
   "source": [
    "# Summary"
   ]
  },
  {
   "cell_type": "markdown",
   "id": "4187fbdd-5bd1-444e-8a9c-d2f69a2dd82d",
   "metadata": {},
   "source": [
    "In our project, we attempt to build a multilinear regression model that will predict the number of fatalities from tornadoes using the features width (yards) and length (miles) of the tornado. We tested our multilinear regression model with and without outliers and compared differences in coefficients and RMSPE scores. Both models had low positive coefficients, suggesting a minimal yet positive impact on the prediction of tornado fatalities, and both had low RMSPE scores, suggesting a low amount of error in its predictions. The model without outliers had a lower RMSPE score, which is partly explained by the lack of outliers and thus making predictions on a smaller range, which reduces the error. Despite the limitations of our model, we believe that it can still have some utility in predicting tornado fatalities with little error. However, the model should be improved in the future before being deployed to improve the size of the coefficients and its predictive power. In the future, we may consider exploring other features in predicting fatalities, predicting the number of injuries from the same features, or even predicting the number of casualties (injuries and fatalities) from the same and additional features. \n"
   ]
  },
  {
   "cell_type": "markdown",
   "id": "f9e56574-483f-4d29-b4aa-44f8a5168a47",
   "metadata": {},
   "source": [
    "# Introduction"
   ]
  },
  {
   "cell_type": "markdown",
   "id": "d891fb3c-693f-4068-aeed-8be2e173e1cf",
   "metadata": {},
   "source": [
    "Tornadoes are a common type of natural disaster in the United States; in fact, the United States gets more tornadoes than any other country at over 1,150 thousand recorded every year (Chinchar, A. 2022). Furthermore, the United States has experienced many of the most violent tornadoes, with 59 of the 67 most violent tornadoes in recorded history taking place in the country (Storm Prediction Center, 2023). As such, the ability to predict the number of fatalities caused by these tornadoes based on their physical characteristics is desirable in order to employ preventative measures and reduce the number of casualties caused by these disasters.\n",
    "\n",
    "This project will be using a data set from the US NOAA’s Storm Prediction Cente (Storm Prediction Center, 2023), which contains information on all tornadoes recorded in the United States from 1950 to 2022. For each tornado, the data set records many of its features, including but not limited to its length, width, the state in the US, the date and time it occurred, the number of fatalities and the number of injuries it caused, and the financial losses it incurred. Using this information, this project will use a multivariable linear regression to answer the question “How does the length and width of a tornado affect the number of fatalities it causes?”"
   ]
  },
  {
   "cell_type": "markdown",
   "id": "56576fe4-a54a-4154-a16d-6a4a799219f8",
   "metadata": {},
   "source": [
    "# Methods"
   ]
  },
  {
   "cell_type": "markdown",
   "id": "30addd3d-1a49-4d1e-ad06-c5cde5675214",
   "metadata": {},
   "source": [
    "## Data wrangling and cleaning"
   ]
  },
  {
   "cell_type": "markdown",
   "id": "dcd870d0-b594-433f-9fa0-cf9c5f251815",
   "metadata": {},
   "source": [
    "The R programming language (R Core Team, 2022)  and the following R packages were used to conduct our analysis: repr (Angerer et al., 2023), tidyverse (Hadley Wickham & RStudio, 2017), tidymodels (Kuhn et al., 2023), psych (Revelle, 2019), and GGally (Schloerke et al., 2020).\n",
    "\n",
    "The code used to perform the analysis and create this report can be found here: https://github.com/DSCI-310-2024/DSCI-310-Group-1-Predict-Fatalities-From-Tornado-Data/blob/main/src/tornado_fatalities_predictor.ipynb. "
   ]
  },
  {
   "cell_type": "markdown",
   "id": "377fe469-edf6-4381-af27-2cfd79746c90",
   "metadata": {},
   "source": [
    "1. First, we load the necessary packages. "
   ]
  },
  {
   "cell_type": "code",
   "execution_count": 1,
   "id": "6486f35c-da96-4c22-84c0-b89e9556da26",
   "metadata": {
    "vscode": {
     "languageId": "r"
    }
   },
   "outputs": [
    {
     "name": "stderr",
     "output_type": "stream",
     "text": [
      "── \u001b[1mAttaching core tidyverse packages\u001b[22m ──────────────────────────────────────────────────────────────── tidyverse 2.0.0 ──\n",
      "\u001b[32m✔\u001b[39m \u001b[34mdplyr    \u001b[39m 1.1.4     \u001b[32m✔\u001b[39m \u001b[34mreadr    \u001b[39m 2.1.5\n",
      "\u001b[32m✔\u001b[39m \u001b[34mforcats  \u001b[39m 1.0.0     \u001b[32m✔\u001b[39m \u001b[34mstringr  \u001b[39m 1.5.1\n",
      "\u001b[32m✔\u001b[39m \u001b[34mggplot2  \u001b[39m 3.4.4     \u001b[32m✔\u001b[39m \u001b[34mtibble   \u001b[39m 3.2.1\n",
      "\u001b[32m✔\u001b[39m \u001b[34mlubridate\u001b[39m 1.9.3     \u001b[32m✔\u001b[39m \u001b[34mtidyr    \u001b[39m 1.3.0\n",
      "\u001b[32m✔\u001b[39m \u001b[34mpurrr    \u001b[39m 1.0.2     \n",
      "── \u001b[1mConflicts\u001b[22m ────────────────────────────────────────────────────────────────────────────────── tidyverse_conflicts() ──\n",
      "\u001b[31m✖\u001b[39m \u001b[34mdplyr\u001b[39m::\u001b[32mfilter()\u001b[39m masks \u001b[34mstats\u001b[39m::filter()\n",
      "\u001b[31m✖\u001b[39m \u001b[34mdplyr\u001b[39m::\u001b[32mlag()\u001b[39m    masks \u001b[34mstats\u001b[39m::lag()\n",
      "\u001b[36mℹ\u001b[39m Use the conflicted package (\u001b[3m\u001b[34m<http://conflicted.r-lib.org/>\u001b[39m\u001b[23m) to force all conflicts to become errors\n",
      "── \u001b[1mAttaching packages\u001b[22m ────────────────────────────────────────────────────────────────────────────── tidymodels 1.1.1 ──\n",
      "\n",
      "\u001b[32m✔\u001b[39m \u001b[34mbroom       \u001b[39m 1.0.5      \u001b[32m✔\u001b[39m \u001b[34mrsample     \u001b[39m 1.2.0 \n",
      "\u001b[32m✔\u001b[39m \u001b[34mdials       \u001b[39m 1.2.1      \u001b[32m✔\u001b[39m \u001b[34mtune        \u001b[39m 1.1.2 \n",
      "\u001b[32m✔\u001b[39m \u001b[34minfer       \u001b[39m 1.0.6      \u001b[32m✔\u001b[39m \u001b[34mworkflows   \u001b[39m 1.1.4 \n",
      "\u001b[32m✔\u001b[39m \u001b[34mmodeldata   \u001b[39m 1.3.0      \u001b[32m✔\u001b[39m \u001b[34mworkflowsets\u001b[39m 1.0.1 \n",
      "\u001b[32m✔\u001b[39m \u001b[34mparsnip     \u001b[39m 1.2.0      \u001b[32m✔\u001b[39m \u001b[34myardstick   \u001b[39m 1.3.0 \n",
      "\u001b[32m✔\u001b[39m \u001b[34mrecipes     \u001b[39m 1.0.10     \n",
      "\n",
      "── \u001b[1mConflicts\u001b[22m ───────────────────────────────────────────────────────────────────────────────── tidymodels_conflicts() ──\n",
      "\u001b[31m✖\u001b[39m \u001b[34mscales\u001b[39m::\u001b[32mdiscard()\u001b[39m masks \u001b[34mpurrr\u001b[39m::discard()\n",
      "\u001b[31m✖\u001b[39m \u001b[34mdplyr\u001b[39m::\u001b[32mfilter()\u001b[39m   masks \u001b[34mstats\u001b[39m::filter()\n",
      "\u001b[31m✖\u001b[39m \u001b[34mrecipes\u001b[39m::\u001b[32mfixed()\u001b[39m  masks \u001b[34mstringr\u001b[39m::fixed()\n",
      "\u001b[31m✖\u001b[39m \u001b[34mdplyr\u001b[39m::\u001b[32mlag()\u001b[39m      masks \u001b[34mstats\u001b[39m::lag()\n",
      "\u001b[31m✖\u001b[39m \u001b[34myardstick\u001b[39m::\u001b[32mspec()\u001b[39m masks \u001b[34mreadr\u001b[39m::spec()\n",
      "\u001b[31m✖\u001b[39m \u001b[34mrecipes\u001b[39m::\u001b[32mstep()\u001b[39m   masks \u001b[34mstats\u001b[39m::step()\n",
      "\u001b[34m•\u001b[39m Dig deeper into tidy modeling with R at \u001b[32mhttps://www.tmwr.org\u001b[39m\n",
      "\n",
      "\n",
      "Attaching package: 'psych'\n",
      "\n",
      "\n",
      "The following objects are masked from 'package:scales':\n",
      "\n",
      "    alpha, rescale\n",
      "\n",
      "\n",
      "The following objects are masked from 'package:ggplot2':\n",
      "\n",
      "    %+%, alpha\n",
      "\n",
      "\n",
      "Registered S3 method overwritten by 'GGally':\n",
      "  method from   \n",
      "  +.gg   ggplot2\n",
      "\n"
     ]
    }
   ],
   "source": [
    "library(repr)\n",
    "library(tidyverse)\n",
    "library(tidymodels)\n",
    "library(psych)\n",
    "library(GGally)"
   ]
  },
  {
   "cell_type": "markdown",
   "id": "81b13872-75ec-4087-8d18-c3656c4b957c",
   "metadata": {},
   "source": [
    "2. Then, we read in the data about tornadoes directly from the website. "
   ]
  },
  {
   "cell_type": "code",
   "execution_count": 2,
   "id": "05baf8a0-fcfc-4fbb-bd3d-b8bed01b1f4f",
   "metadata": {
    "vscode": {
     "languageId": "r"
    }
   },
   "outputs": [
    {
     "data": {
      "text/html": [
       "<table class=\"dataframe\">\n",
       "<caption>A data.frame: 6 × 27</caption>\n",
       "<thead>\n",
       "\t<tr><th></th><th scope=col>om</th><th scope=col>yr</th><th scope=col>mo</th><th scope=col>dy</th><th scope=col>date</th><th scope=col>time</th><th scope=col>tz</th><th scope=col>datetime_utc</th><th scope=col>st</th><th scope=col>stf</th><th scope=col>⋯</th><th scope=col>elon</th><th scope=col>len</th><th scope=col>wid</th><th scope=col>ns</th><th scope=col>sn</th><th scope=col>f1</th><th scope=col>f2</th><th scope=col>f3</th><th scope=col>f4</th><th scope=col>fc</th></tr>\n",
       "\t<tr><th></th><th scope=col>&lt;int&gt;</th><th scope=col>&lt;int&gt;</th><th scope=col>&lt;int&gt;</th><th scope=col>&lt;int&gt;</th><th scope=col>&lt;chr&gt;</th><th scope=col>&lt;chr&gt;</th><th scope=col>&lt;chr&gt;</th><th scope=col>&lt;chr&gt;</th><th scope=col>&lt;chr&gt;</th><th scope=col>&lt;int&gt;</th><th scope=col>⋯</th><th scope=col>&lt;dbl&gt;</th><th scope=col>&lt;dbl&gt;</th><th scope=col>&lt;int&gt;</th><th scope=col>&lt;int&gt;</th><th scope=col>&lt;int&gt;</th><th scope=col>&lt;int&gt;</th><th scope=col>&lt;int&gt;</th><th scope=col>&lt;int&gt;</th><th scope=col>&lt;int&gt;</th><th scope=col>&lt;lgl&gt;</th></tr>\n",
       "</thead>\n",
       "<tbody>\n",
       "\t<tr><th scope=row>1</th><td>192</td><td>1950</td><td>10</td><td> 1</td><td>1950-10-01</td><td>21:00:00</td><td>America/Chicago</td><td>1950-10-02T03:00:00Z</td><td>OK</td><td>40</td><td>⋯</td><td>-102.30</td><td>15.8</td><td> 10</td><td>1</td><td>1</td><td> 25</td><td> 0</td><td>0</td><td>0</td><td>FALSE</td></tr>\n",
       "\t<tr><th scope=row>2</th><td>193</td><td>1950</td><td>10</td><td> 9</td><td>1950-10-09</td><td>02:15:00</td><td>America/Chicago</td><td>1950-10-09T08:15:00Z</td><td>NC</td><td>37</td><td>⋯</td><td>   0.00</td><td> 2.0</td><td>880</td><td>1</td><td>1</td><td> 47</td><td> 0</td><td>0</td><td>0</td><td>FALSE</td></tr>\n",
       "\t<tr><th scope=row>3</th><td>195</td><td>1950</td><td>11</td><td>20</td><td>1950-11-20</td><td>02:20:00</td><td>America/Chicago</td><td>1950-11-20T08:20:00Z</td><td>KY</td><td>21</td><td>⋯</td><td>   0.00</td><td> 0.1</td><td> 10</td><td>1</td><td>1</td><td>177</td><td> 0</td><td>0</td><td>0</td><td>FALSE</td></tr>\n",
       "\t<tr><th scope=row>4</th><td>196</td><td>1950</td><td>11</td><td>20</td><td>1950-11-20</td><td>04:00:00</td><td>America/Chicago</td><td>1950-11-20T10:00:00Z</td><td>KY</td><td>21</td><td>⋯</td><td>   0.00</td><td> 0.1</td><td> 10</td><td>1</td><td>1</td><td>209</td><td> 0</td><td>0</td><td>0</td><td>FALSE</td></tr>\n",
       "\t<tr><th scope=row>5</th><td>197</td><td>1950</td><td>11</td><td>20</td><td>1950-11-20</td><td>07:30:00</td><td>America/Chicago</td><td>1950-11-20T13:30:00Z</td><td>MS</td><td>28</td><td>⋯</td><td>   0.00</td><td> 2.0</td><td> 37</td><td>1</td><td>1</td><td>101</td><td> 0</td><td>0</td><td>0</td><td>FALSE</td></tr>\n",
       "\t<tr><th scope=row>6</th><td>194</td><td>1950</td><td>11</td><td> 4</td><td>1950-11-04</td><td>17:00:00</td><td>America/Chicago</td><td>1950-11-04T23:00:00Z</td><td>PA</td><td>42</td><td>⋯</td><td> -75.93</td><td>15.9</td><td>100</td><td>1</td><td>1</td><td> 71</td><td>11</td><td>0</td><td>0</td><td>FALSE</td></tr>\n",
       "</tbody>\n",
       "</table>\n"
      ],
      "text/latex": [
       "A data.frame: 6 × 27\n",
       "\\begin{tabular}{r|lllllllllllllllllllll}\n",
       "  & om & yr & mo & dy & date & time & tz & datetime\\_utc & st & stf & ⋯ & elon & len & wid & ns & sn & f1 & f2 & f3 & f4 & fc\\\\\n",
       "  & <int> & <int> & <int> & <int> & <chr> & <chr> & <chr> & <chr> & <chr> & <int> & ⋯ & <dbl> & <dbl> & <int> & <int> & <int> & <int> & <int> & <int> & <int> & <lgl>\\\\\n",
       "\\hline\n",
       "\t1 & 192 & 1950 & 10 &  1 & 1950-10-01 & 21:00:00 & America/Chicago & 1950-10-02T03:00:00Z & OK & 40 & ⋯ & -102.30 & 15.8 &  10 & 1 & 1 &  25 &  0 & 0 & 0 & FALSE\\\\\n",
       "\t2 & 193 & 1950 & 10 &  9 & 1950-10-09 & 02:15:00 & America/Chicago & 1950-10-09T08:15:00Z & NC & 37 & ⋯ &    0.00 &  2.0 & 880 & 1 & 1 &  47 &  0 & 0 & 0 & FALSE\\\\\n",
       "\t3 & 195 & 1950 & 11 & 20 & 1950-11-20 & 02:20:00 & America/Chicago & 1950-11-20T08:20:00Z & KY & 21 & ⋯ &    0.00 &  0.1 &  10 & 1 & 1 & 177 &  0 & 0 & 0 & FALSE\\\\\n",
       "\t4 & 196 & 1950 & 11 & 20 & 1950-11-20 & 04:00:00 & America/Chicago & 1950-11-20T10:00:00Z & KY & 21 & ⋯ &    0.00 &  0.1 &  10 & 1 & 1 & 209 &  0 & 0 & 0 & FALSE\\\\\n",
       "\t5 & 197 & 1950 & 11 & 20 & 1950-11-20 & 07:30:00 & America/Chicago & 1950-11-20T13:30:00Z & MS & 28 & ⋯ &    0.00 &  2.0 &  37 & 1 & 1 & 101 &  0 & 0 & 0 & FALSE\\\\\n",
       "\t6 & 194 & 1950 & 11 &  4 & 1950-11-04 & 17:00:00 & America/Chicago & 1950-11-04T23:00:00Z & PA & 42 & ⋯ &  -75.93 & 15.9 & 100 & 1 & 1 &  71 & 11 & 0 & 0 & FALSE\\\\\n",
       "\\end{tabular}\n"
      ],
      "text/markdown": [
       "\n",
       "A data.frame: 6 × 27\n",
       "\n",
       "| <!--/--> | om &lt;int&gt; | yr &lt;int&gt; | mo &lt;int&gt; | dy &lt;int&gt; | date &lt;chr&gt; | time &lt;chr&gt; | tz &lt;chr&gt; | datetime_utc &lt;chr&gt; | st &lt;chr&gt; | stf &lt;int&gt; | ⋯ ⋯ | elon &lt;dbl&gt; | len &lt;dbl&gt; | wid &lt;int&gt; | ns &lt;int&gt; | sn &lt;int&gt; | f1 &lt;int&gt; | f2 &lt;int&gt; | f3 &lt;int&gt; | f4 &lt;int&gt; | fc &lt;lgl&gt; |\n",
       "|---|---|---|---|---|---|---|---|---|---|---|---|---|---|---|---|---|---|---|---|---|---|\n",
       "| 1 | 192 | 1950 | 10 |  1 | 1950-10-01 | 21:00:00 | America/Chicago | 1950-10-02T03:00:00Z | OK | 40 | ⋯ | -102.30 | 15.8 |  10 | 1 | 1 |  25 |  0 | 0 | 0 | FALSE |\n",
       "| 2 | 193 | 1950 | 10 |  9 | 1950-10-09 | 02:15:00 | America/Chicago | 1950-10-09T08:15:00Z | NC | 37 | ⋯ |    0.00 |  2.0 | 880 | 1 | 1 |  47 |  0 | 0 | 0 | FALSE |\n",
       "| 3 | 195 | 1950 | 11 | 20 | 1950-11-20 | 02:20:00 | America/Chicago | 1950-11-20T08:20:00Z | KY | 21 | ⋯ |    0.00 |  0.1 |  10 | 1 | 1 | 177 |  0 | 0 | 0 | FALSE |\n",
       "| 4 | 196 | 1950 | 11 | 20 | 1950-11-20 | 04:00:00 | America/Chicago | 1950-11-20T10:00:00Z | KY | 21 | ⋯ |    0.00 |  0.1 |  10 | 1 | 1 | 209 |  0 | 0 | 0 | FALSE |\n",
       "| 5 | 197 | 1950 | 11 | 20 | 1950-11-20 | 07:30:00 | America/Chicago | 1950-11-20T13:30:00Z | MS | 28 | ⋯ |    0.00 |  2.0 |  37 | 1 | 1 | 101 |  0 | 0 | 0 | FALSE |\n",
       "| 6 | 194 | 1950 | 11 |  4 | 1950-11-04 | 17:00:00 | America/Chicago | 1950-11-04T23:00:00Z | PA | 42 | ⋯ |  -75.93 | 15.9 | 100 | 1 | 1 |  71 | 11 | 0 | 0 | FALSE |\n",
       "\n"
      ],
      "text/plain": [
       "  om  yr   mo dy date       time     tz              datetime_utc         st\n",
       "1 192 1950 10  1 1950-10-01 21:00:00 America/Chicago 1950-10-02T03:00:00Z OK\n",
       "2 193 1950 10  9 1950-10-09 02:15:00 America/Chicago 1950-10-09T08:15:00Z NC\n",
       "3 195 1950 11 20 1950-11-20 02:20:00 America/Chicago 1950-11-20T08:20:00Z KY\n",
       "4 196 1950 11 20 1950-11-20 04:00:00 America/Chicago 1950-11-20T10:00:00Z KY\n",
       "5 197 1950 11 20 1950-11-20 07:30:00 America/Chicago 1950-11-20T13:30:00Z MS\n",
       "6 194 1950 11  4 1950-11-04 17:00:00 America/Chicago 1950-11-04T23:00:00Z PA\n",
       "  stf ⋯ elon    len  wid ns sn f1  f2 f3 f4 fc   \n",
       "1 40  ⋯ -102.30 15.8  10 1  1   25  0 0  0  FALSE\n",
       "2 37  ⋯    0.00  2.0 880 1  1   47  0 0  0  FALSE\n",
       "3 21  ⋯    0.00  0.1  10 1  1  177  0 0  0  FALSE\n",
       "4 21  ⋯    0.00  0.1  10 1  1  209  0 0  0  FALSE\n",
       "5 28  ⋯    0.00  2.0  37 1  1  101  0 0  0  FALSE\n",
       "6 42  ⋯  -75.93 15.9 100 1  1   71 11 0  0  FALSE"
      ]
     },
     "metadata": {},
     "output_type": "display_data"
    }
   ],
   "source": [
    "# Load data\n",
    "URL <- \"https://raw.githubusercontent.com/rfordatascience/tidytuesday/a9e277dd77331e9091e151bb5adb584742064b3e/data/2023/2023-05-16/tornados.csv\"\n",
    "tornado_data <- read.csv(URL)\n",
    "\n",
    "head(tornado_data)"
   ]
  },
  {
   "cell_type": "markdown",
   "id": "57e588c3-7a73-4efc-a9c2-6701451865ef",
   "metadata": {},
   "source": [
    "3. Next, we wrangle and clean the data. Firstly, we check for missing values in our cleaned data."
   ]
  },
  {
   "cell_type": "code",
   "execution_count": 3,
   "id": "b117539a-19d7-46c0-a11d-e4741c14d52b",
   "metadata": {
    "vscode": {
     "languageId": "r"
    }
   },
   "outputs": [
    {
     "data": {
      "text/html": [
       "<style>\n",
       ".dl-inline {width: auto; margin:0; padding: 0}\n",
       ".dl-inline>dt, .dl-inline>dd {float: none; width: auto; display: inline-block}\n",
       ".dl-inline>dt::after {content: \":\\0020\"; padding-right: .5ex}\n",
       ".dl-inline>dt:not(:first-of-type) {padding-left: .5ex}\n",
       "</style><dl class=dl-inline><dt>om</dt><dd>0</dd><dt>yr</dt><dd>0</dd><dt>mo</dt><dd>0</dd><dt>dy</dt><dd>0</dd><dt>date</dt><dd>0</dd><dt>time</dt><dd>0</dd><dt>tz</dt><dd>0</dd><dt>datetime_utc</dt><dd>0</dd><dt>st</dt><dd>0</dd><dt>stf</dt><dd>0</dd><dt>mag</dt><dd>756</dd><dt>inj</dt><dd>0</dd><dt>fat</dt><dd>0</dd><dt>loss</dt><dd>27170</dd><dt>slat</dt><dd>0</dd><dt>slon</dt><dd>0</dd><dt>elat</dt><dd>0</dd><dt>elon</dt><dd>0</dd><dt>len</dt><dd>0</dd><dt>wid</dt><dd>0</dd><dt>ns</dt><dd>0</dd><dt>sn</dt><dd>0</dd><dt>f1</dt><dd>0</dd><dt>f2</dt><dd>0</dd><dt>f3</dt><dd>0</dd><dt>f4</dt><dd>0</dd><dt>fc</dt><dd>0</dd></dl>\n"
      ],
      "text/latex": [
       "\\begin{description*}\n",
       "\\item[om] 0\n",
       "\\item[yr] 0\n",
       "\\item[mo] 0\n",
       "\\item[dy] 0\n",
       "\\item[date] 0\n",
       "\\item[time] 0\n",
       "\\item[tz] 0\n",
       "\\item[datetime\\textbackslash{}\\_utc] 0\n",
       "\\item[st] 0\n",
       "\\item[stf] 0\n",
       "\\item[mag] 756\n",
       "\\item[inj] 0\n",
       "\\item[fat] 0\n",
       "\\item[loss] 27170\n",
       "\\item[slat] 0\n",
       "\\item[slon] 0\n",
       "\\item[elat] 0\n",
       "\\item[elon] 0\n",
       "\\item[len] 0\n",
       "\\item[wid] 0\n",
       "\\item[ns] 0\n",
       "\\item[sn] 0\n",
       "\\item[f1] 0\n",
       "\\item[f2] 0\n",
       "\\item[f3] 0\n",
       "\\item[f4] 0\n",
       "\\item[fc] 0\n",
       "\\end{description*}\n"
      ],
      "text/markdown": [
       "om\n",
       ":   0yr\n",
       ":   0mo\n",
       ":   0dy\n",
       ":   0date\n",
       ":   0time\n",
       ":   0tz\n",
       ":   0datetime_utc\n",
       ":   0st\n",
       ":   0stf\n",
       ":   0mag\n",
       ":   756inj\n",
       ":   0fat\n",
       ":   0loss\n",
       ":   27170slat\n",
       ":   0slon\n",
       ":   0elat\n",
       ":   0elon\n",
       ":   0len\n",
       ":   0wid\n",
       ":   0ns\n",
       ":   0sn\n",
       ":   0f1\n",
       ":   0f2\n",
       ":   0f3\n",
       ":   0f4\n",
       ":   0fc\n",
       ":   0\n",
       "\n"
      ],
      "text/plain": [
       "          om           yr           mo           dy         date         time \n",
       "           0            0            0            0            0            0 \n",
       "          tz datetime_utc           st          stf          mag          inj \n",
       "           0            0            0            0          756            0 \n",
       "         fat         loss         slat         slon         elat         elon \n",
       "           0        27170            0            0            0            0 \n",
       "         len          wid           ns           sn           f1           f2 \n",
       "           0            0            0            0            0            0 \n",
       "          f3           f4           fc \n",
       "           0            0            0 "
      ]
     },
     "metadata": {},
     "output_type": "display_data"
    }
   ],
   "source": [
    "sapply(tornado_data, function(x) sum(is.na(x)))"
   ]
  },
  {
   "cell_type": "markdown",
   "id": "d517d4f0-8b70-4ab6-871a-9e156452932e",
   "metadata": {},
   "source": [
    "We can see that there are no missing values, except for the feature `loss`, with 27,170 missing values and 756 missing values for the feature mag.  The feature `loss` refers to the financial loss of each tornado. For our regression problem, we did not deem this feature to be an important feature. Therefore, we decide to remove this column. \n",
    "\n",
    "Because there are not so many rows missing for the feature `mag`, we decide to filter those rows out. \n",
    "\n",
    "4. Then, we remove irrelevant or repetitive columns and then filter for missing values of the column `mag`, which stands for magnitude. Then, we change the feature names to make them more descriptive. We show the top 6 rows of our cleaned data. "
   ]
  },
  {
   "cell_type": "code",
   "execution_count": 4,
   "id": "e7b717a6-3315-4d14-90f9-b1277929e9a5",
   "metadata": {
    "vscode": {
     "languageId": "r"
    }
   },
   "outputs": [
    {
     "data": {
      "text/html": [
       "<table class=\"dataframe\">\n",
       "<caption>A data.frame: 6 × 17</caption>\n",
       "<thead>\n",
       "\t<tr><th></th><th scope=col>ID</th><th scope=col>year</th><th scope=col>month</th><th scope=col>day</th><th scope=col>time</th><th scope=col>datetime_utc</th><th scope=col>state</th><th scope=col>mag</th><th scope=col>injuries</th><th scope=col>fatalities</th><th scope=col>start_lat</th><th scope=col>start_lon</th><th scope=col>end_lat</th><th scope=col>end_lon</th><th scope=col>length</th><th scope=col>width</th><th scope=col>ns</th></tr>\n",
       "\t<tr><th></th><th scope=col>&lt;int&gt;</th><th scope=col>&lt;int&gt;</th><th scope=col>&lt;int&gt;</th><th scope=col>&lt;int&gt;</th><th scope=col>&lt;chr&gt;</th><th scope=col>&lt;chr&gt;</th><th scope=col>&lt;chr&gt;</th><th scope=col>&lt;int&gt;</th><th scope=col>&lt;int&gt;</th><th scope=col>&lt;int&gt;</th><th scope=col>&lt;dbl&gt;</th><th scope=col>&lt;dbl&gt;</th><th scope=col>&lt;dbl&gt;</th><th scope=col>&lt;dbl&gt;</th><th scope=col>&lt;dbl&gt;</th><th scope=col>&lt;int&gt;</th><th scope=col>&lt;int&gt;</th></tr>\n",
       "</thead>\n",
       "<tbody>\n",
       "\t<tr><th scope=row>1</th><td>192</td><td>1950</td><td>10</td><td> 1</td><td>21:00:00</td><td>1950-10-02T03:00:00Z</td><td>OK</td><td>1</td><td>0</td><td>0</td><td>36.73</td><td>-102.52</td><td>36.88</td><td>-102.30</td><td>15.8</td><td> 10</td><td>1</td></tr>\n",
       "\t<tr><th scope=row>2</th><td>193</td><td>1950</td><td>10</td><td> 9</td><td>02:15:00</td><td>1950-10-09T08:15:00Z</td><td>NC</td><td>3</td><td>3</td><td>0</td><td>34.17</td><td> -78.60</td><td> 0.00</td><td>   0.00</td><td> 2.0</td><td>880</td><td>1</td></tr>\n",
       "\t<tr><th scope=row>3</th><td>195</td><td>1950</td><td>11</td><td>20</td><td>02:20:00</td><td>1950-11-20T08:20:00Z</td><td>KY</td><td>2</td><td>0</td><td>0</td><td>37.37</td><td> -87.20</td><td> 0.00</td><td>   0.00</td><td> 0.1</td><td> 10</td><td>1</td></tr>\n",
       "\t<tr><th scope=row>4</th><td>196</td><td>1950</td><td>11</td><td>20</td><td>04:00:00</td><td>1950-11-20T10:00:00Z</td><td>KY</td><td>1</td><td>0</td><td>0</td><td>38.20</td><td> -84.50</td><td> 0.00</td><td>   0.00</td><td> 0.1</td><td> 10</td><td>1</td></tr>\n",
       "\t<tr><th scope=row>5</th><td>197</td><td>1950</td><td>11</td><td>20</td><td>07:30:00</td><td>1950-11-20T13:30:00Z</td><td>MS</td><td>1</td><td>3</td><td>0</td><td>32.42</td><td> -89.13</td><td> 0.00</td><td>   0.00</td><td> 2.0</td><td> 37</td><td>1</td></tr>\n",
       "\t<tr><th scope=row>6</th><td>194</td><td>1950</td><td>11</td><td> 4</td><td>17:00:00</td><td>1950-11-04T23:00:00Z</td><td>PA</td><td>3</td><td>1</td><td>0</td><td>40.20</td><td> -76.12</td><td>40.40</td><td> -75.93</td><td>15.9</td><td>100</td><td>1</td></tr>\n",
       "</tbody>\n",
       "</table>\n"
      ],
      "text/latex": [
       "A data.frame: 6 × 17\n",
       "\\begin{tabular}{r|lllllllllllllllll}\n",
       "  & ID & year & month & day & time & datetime\\_utc & state & mag & injuries & fatalities & start\\_lat & start\\_lon & end\\_lat & end\\_lon & length & width & ns\\\\\n",
       "  & <int> & <int> & <int> & <int> & <chr> & <chr> & <chr> & <int> & <int> & <int> & <dbl> & <dbl> & <dbl> & <dbl> & <dbl> & <int> & <int>\\\\\n",
       "\\hline\n",
       "\t1 & 192 & 1950 & 10 &  1 & 21:00:00 & 1950-10-02T03:00:00Z & OK & 1 & 0 & 0 & 36.73 & -102.52 & 36.88 & -102.30 & 15.8 &  10 & 1\\\\\n",
       "\t2 & 193 & 1950 & 10 &  9 & 02:15:00 & 1950-10-09T08:15:00Z & NC & 3 & 3 & 0 & 34.17 &  -78.60 &  0.00 &    0.00 &  2.0 & 880 & 1\\\\\n",
       "\t3 & 195 & 1950 & 11 & 20 & 02:20:00 & 1950-11-20T08:20:00Z & KY & 2 & 0 & 0 & 37.37 &  -87.20 &  0.00 &    0.00 &  0.1 &  10 & 1\\\\\n",
       "\t4 & 196 & 1950 & 11 & 20 & 04:00:00 & 1950-11-20T10:00:00Z & KY & 1 & 0 & 0 & 38.20 &  -84.50 &  0.00 &    0.00 &  0.1 &  10 & 1\\\\\n",
       "\t5 & 197 & 1950 & 11 & 20 & 07:30:00 & 1950-11-20T13:30:00Z & MS & 1 & 3 & 0 & 32.42 &  -89.13 &  0.00 &    0.00 &  2.0 &  37 & 1\\\\\n",
       "\t6 & 194 & 1950 & 11 &  4 & 17:00:00 & 1950-11-04T23:00:00Z & PA & 3 & 1 & 0 & 40.20 &  -76.12 & 40.40 &  -75.93 & 15.9 & 100 & 1\\\\\n",
       "\\end{tabular}\n"
      ],
      "text/markdown": [
       "\n",
       "A data.frame: 6 × 17\n",
       "\n",
       "| <!--/--> | ID &lt;int&gt; | year &lt;int&gt; | month &lt;int&gt; | day &lt;int&gt; | time &lt;chr&gt; | datetime_utc &lt;chr&gt; | state &lt;chr&gt; | mag &lt;int&gt; | injuries &lt;int&gt; | fatalities &lt;int&gt; | start_lat &lt;dbl&gt; | start_lon &lt;dbl&gt; | end_lat &lt;dbl&gt; | end_lon &lt;dbl&gt; | length &lt;dbl&gt; | width &lt;int&gt; | ns &lt;int&gt; |\n",
       "|---|---|---|---|---|---|---|---|---|---|---|---|---|---|---|---|---|---|\n",
       "| 1 | 192 | 1950 | 10 |  1 | 21:00:00 | 1950-10-02T03:00:00Z | OK | 1 | 0 | 0 | 36.73 | -102.52 | 36.88 | -102.30 | 15.8 |  10 | 1 |\n",
       "| 2 | 193 | 1950 | 10 |  9 | 02:15:00 | 1950-10-09T08:15:00Z | NC | 3 | 3 | 0 | 34.17 |  -78.60 |  0.00 |    0.00 |  2.0 | 880 | 1 |\n",
       "| 3 | 195 | 1950 | 11 | 20 | 02:20:00 | 1950-11-20T08:20:00Z | KY | 2 | 0 | 0 | 37.37 |  -87.20 |  0.00 |    0.00 |  0.1 |  10 | 1 |\n",
       "| 4 | 196 | 1950 | 11 | 20 | 04:00:00 | 1950-11-20T10:00:00Z | KY | 1 | 0 | 0 | 38.20 |  -84.50 |  0.00 |    0.00 |  0.1 |  10 | 1 |\n",
       "| 5 | 197 | 1950 | 11 | 20 | 07:30:00 | 1950-11-20T13:30:00Z | MS | 1 | 3 | 0 | 32.42 |  -89.13 |  0.00 |    0.00 |  2.0 |  37 | 1 |\n",
       "| 6 | 194 | 1950 | 11 |  4 | 17:00:00 | 1950-11-04T23:00:00Z | PA | 3 | 1 | 0 | 40.20 |  -76.12 | 40.40 |  -75.93 | 15.9 | 100 | 1 |\n",
       "\n"
      ],
      "text/plain": [
       "  ID  year month day time     datetime_utc         state mag injuries\n",
       "1 192 1950 10     1  21:00:00 1950-10-02T03:00:00Z OK    1   0       \n",
       "2 193 1950 10     9  02:15:00 1950-10-09T08:15:00Z NC    3   3       \n",
       "3 195 1950 11    20  02:20:00 1950-11-20T08:20:00Z KY    2   0       \n",
       "4 196 1950 11    20  04:00:00 1950-11-20T10:00:00Z KY    1   0       \n",
       "5 197 1950 11    20  07:30:00 1950-11-20T13:30:00Z MS    1   3       \n",
       "6 194 1950 11     4  17:00:00 1950-11-04T23:00:00Z PA    3   1       \n",
       "  fatalities start_lat start_lon end_lat end_lon length width ns\n",
       "1 0          36.73     -102.52   36.88   -102.30 15.8    10   1 \n",
       "2 0          34.17      -78.60    0.00      0.00  2.0   880   1 \n",
       "3 0          37.37      -87.20    0.00      0.00  0.1    10   1 \n",
       "4 0          38.20      -84.50    0.00      0.00  0.1    10   1 \n",
       "5 0          32.42      -89.13    0.00      0.00  2.0    37   1 \n",
       "6 0          40.20      -76.12   40.40    -75.93 15.9   100   1 "
      ]
     },
     "metadata": {},
     "output_type": "display_data"
    }
   ],
   "source": [
    "# Wrangle and clean data\n",
    "\n",
    "# Remove irrelevant or repetitive columns, and filter for NA in magnitude\n",
    "df <- tornado_data %>%\n",
    "    select(-date, -tz, -stf, -sn, -f1, -f2, -f3, -f4, -fc, -loss) %>%\n",
    "    filter(!is.na(mag)) \n",
    "\n",
    "# Change feature names to be more descriptive\n",
    "names(df) <- c('ID','year','month','day','time','datetime_utc','state','mag','injuries',\n",
    "               'fatalities','start_lat','start_lon','end_lat','end_lon','length','width','ns')\n",
    "\n",
    "head(df)"
   ]
  },
  {
   "cell_type": "code",
   "execution_count": 5,
   "id": "a7ca3677-25c2-4bbc-860d-f11748338899",
   "metadata": {
    "vscode": {
     "languageId": "r"
    }
   },
   "outputs": [],
   "source": [
    "# This is to export cleaned data frame to new csv file\n",
    "#write_csv(df, \"C:\\\\Users\\\\Erika\\\\DSCI-310-Group-1-Predict-Fatalities-From-Tornado-Data\\\\data\\\\processed\\\\01_clean_tornado_data.csv\")"
   ]
  },
  {
   "cell_type": "markdown",
   "id": "0423bd40-697d-4208-8278-75132f942e11",
   "metadata": {},
   "source": [
    "5. We split our data into two sets: `train_df` and `test_df`. `train_df` consists of 75% of our original data set and is used to train our regression model. The remaining 25% of our original data is `test_df`, which we use later to test the accuracy of our model at prediction. "
   ]
  },
  {
   "cell_type": "code",
   "execution_count": 6,
   "id": "6e4a8800-229f-424c-af18-3b19f6d41148",
   "metadata": {},
   "outputs": [],
   "source": [
    "set.seed(2000)\n",
    "\n",
    "data_split <- initial_split(df, prop = 0.75, strata = fatalities)\n",
    "train_df <- training(data_split)\n",
    "test_df <- testing(data_split)"
   ]
  },
  {
   "cell_type": "code",
   "execution_count": 7,
   "id": "df846736-192f-41d8-b89d-ccba00cbcb87",
   "metadata": {},
   "outputs": [],
   "source": [
    "#write_csv(train_df, \"C:\\\\Users\\\\Erika\\\\DSCI-310-Group-1-Predict-Fatalities-From-Tornado-Data\\\\data\\\\processed\\\\02_tornado_train_data.csv\")\n",
    "#write_csv(test_df, \"C:\\\\Users\\\\Erika\\\\DSCI-310-Group-1-Predict-Fatalities-From-Tornado-Data\\\\data\\\\processed\\\\03_tornado_test_data.csv\")"
   ]
  },
  {
   "cell_type": "markdown",
   "id": "4e5b88d2-2c21-42f9-8511-d4c19e1fb1ba",
   "metadata": {},
   "source": [
    "## EDA: Descriptive statistics and visualizations"
   ]
  },
  {
   "cell_type": "markdown",
   "id": "fff8ab6d-285f-4fda-9e96-f5c7e309b446",
   "metadata": {},
   "source": [
    "6. Next, we create a summary table of features that could be useful to use in our regression model. "
   ]
  },
  {
   "cell_type": "code",
   "execution_count": 8,
   "id": "b83eb9de-0b51-4b2d-afbe-c91f9cee1c27",
   "metadata": {
    "vscode": {
     "languageId": "r"
    }
   },
   "outputs": [
    {
     "data": {
      "text/html": [
       "<table class=\"dataframe\">\n",
       "<caption>A psych: 10 × 8</caption>\n",
       "<thead>\n",
       "\t<tr><th></th><th scope=col>vars</th><th scope=col>n</th><th scope=col>mean</th><th scope=col>sd</th><th scope=col>min</th><th scope=col>max</th><th scope=col>range</th><th scope=col>se</th></tr>\n",
       "\t<tr><th></th><th scope=col>&lt;int&gt;</th><th scope=col>&lt;dbl&gt;</th><th scope=col>&lt;dbl&gt;</th><th scope=col>&lt;dbl&gt;</th><th scope=col>&lt;dbl&gt;</th><th scope=col>&lt;dbl&gt;</th><th scope=col>&lt;dbl&gt;</th><th scope=col>&lt;dbl&gt;</th></tr>\n",
       "</thead>\n",
       "<tbody>\n",
       "\t<tr><th scope=row>mag</th><td> 1</td><td>50952</td><td>  0.78142173</td><td>  0.89596074</td><td>   0.0000</td><td>   5.0000</td><td>   5.0000</td><td>0.0039692492</td></tr>\n",
       "\t<tr><th scope=row>injuries</th><td> 2</td><td>50952</td><td>  1.47629141</td><td> 19.36633680</td><td>   0.0000</td><td>1740.0000</td><td>1740.0000</td><td>0.0857959648</td></tr>\n",
       "\t<tr><th scope=row>fatalities</th><td> 3</td><td>50952</td><td>  0.09169414</td><td>  1.59757577</td><td>   0.0000</td><td> 158.0000</td><td> 158.0000</td><td>0.0070775158</td></tr>\n",
       "\t<tr><th scope=row>start_lat</th><td> 4</td><td>50952</td><td> 37.10993793</td><td>  5.10032318</td><td>  17.7212</td><td>  61.0200</td><td>  43.2988</td><td>0.0225952462</td></tr>\n",
       "\t<tr><th scope=row>start_lon</th><td> 5</td><td>50952</td><td>-92.71313851</td><td>  8.67825243</td><td>-163.5300</td><td> -64.7151</td><td>  98.8149</td><td>0.0384460442</td></tr>\n",
       "\t<tr><th scope=row>end_lat</th><td> 6</td><td>50952</td><td> 22.80843680</td><td> 18.55088853</td><td>   0.0000</td><td>  61.0200</td><td>  61.0200</td><td>0.0821833987</td></tr>\n",
       "\t<tr><th scope=row>end_lon</th><td> 7</td><td>50952</td><td>-56.43358222</td><td> 45.37952486</td><td>-163.5300</td><td>   0.0000</td><td> 163.5300</td><td>0.2010385422</td></tr>\n",
       "\t<tr><th scope=row>length</th><td> 8</td><td>50952</td><td>  3.53639739</td><td>  8.44916009</td><td>   0.0000</td><td> 217.8000</td><td> 217.8000</td><td>0.0374311285</td></tr>\n",
       "\t<tr><th scope=row>width</th><td> 9</td><td>50952</td><td>108.94428089</td><td>208.62821871</td><td>   0.0000</td><td>4400.0000</td><td>4400.0000</td><td>0.9242563267</td></tr>\n",
       "\t<tr><th scope=row>ns</th><td>10</td><td>50952</td><td>  1.00896923</td><td>  0.09654398</td><td>   1.0000</td><td>   3.0000</td><td>   2.0000</td><td>0.0004277053</td></tr>\n",
       "</tbody>\n",
       "</table>\n"
      ],
      "text/latex": [
       "A psych: 10 × 8\n",
       "\\begin{tabular}{r|llllllll}\n",
       "  & vars & n & mean & sd & min & max & range & se\\\\\n",
       "  & <int> & <dbl> & <dbl> & <dbl> & <dbl> & <dbl> & <dbl> & <dbl>\\\\\n",
       "\\hline\n",
       "\tmag &  1 & 50952 &   0.78142173 &   0.89596074 &    0.0000 &    5.0000 &    5.0000 & 0.0039692492\\\\\n",
       "\tinjuries &  2 & 50952 &   1.47629141 &  19.36633680 &    0.0000 & 1740.0000 & 1740.0000 & 0.0857959648\\\\\n",
       "\tfatalities &  3 & 50952 &   0.09169414 &   1.59757577 &    0.0000 &  158.0000 &  158.0000 & 0.0070775158\\\\\n",
       "\tstart\\_lat &  4 & 50952 &  37.10993793 &   5.10032318 &   17.7212 &   61.0200 &   43.2988 & 0.0225952462\\\\\n",
       "\tstart\\_lon &  5 & 50952 & -92.71313851 &   8.67825243 & -163.5300 &  -64.7151 &   98.8149 & 0.0384460442\\\\\n",
       "\tend\\_lat &  6 & 50952 &  22.80843680 &  18.55088853 &    0.0000 &   61.0200 &   61.0200 & 0.0821833987\\\\\n",
       "\tend\\_lon &  7 & 50952 & -56.43358222 &  45.37952486 & -163.5300 &    0.0000 &  163.5300 & 0.2010385422\\\\\n",
       "\tlength &  8 & 50952 &   3.53639739 &   8.44916009 &    0.0000 &  217.8000 &  217.8000 & 0.0374311285\\\\\n",
       "\twidth &  9 & 50952 & 108.94428089 & 208.62821871 &    0.0000 & 4400.0000 & 4400.0000 & 0.9242563267\\\\\n",
       "\tns & 10 & 50952 &   1.00896923 &   0.09654398 &    1.0000 &    3.0000 &    2.0000 & 0.0004277053\\\\\n",
       "\\end{tabular}\n"
      ],
      "text/markdown": [
       "\n",
       "A psych: 10 × 8\n",
       "\n",
       "| <!--/--> | vars &lt;int&gt; | n &lt;dbl&gt; | mean &lt;dbl&gt; | sd &lt;dbl&gt; | min &lt;dbl&gt; | max &lt;dbl&gt; | range &lt;dbl&gt; | se &lt;dbl&gt; |\n",
       "|---|---|---|---|---|---|---|---|---|\n",
       "| mag |  1 | 50952 |   0.78142173 |   0.89596074 |    0.0000 |    5.0000 |    5.0000 | 0.0039692492 |\n",
       "| injuries |  2 | 50952 |   1.47629141 |  19.36633680 |    0.0000 | 1740.0000 | 1740.0000 | 0.0857959648 |\n",
       "| fatalities |  3 | 50952 |   0.09169414 |   1.59757577 |    0.0000 |  158.0000 |  158.0000 | 0.0070775158 |\n",
       "| start_lat |  4 | 50952 |  37.10993793 |   5.10032318 |   17.7212 |   61.0200 |   43.2988 | 0.0225952462 |\n",
       "| start_lon |  5 | 50952 | -92.71313851 |   8.67825243 | -163.5300 |  -64.7151 |   98.8149 | 0.0384460442 |\n",
       "| end_lat |  6 | 50952 |  22.80843680 |  18.55088853 |    0.0000 |   61.0200 |   61.0200 | 0.0821833987 |\n",
       "| end_lon |  7 | 50952 | -56.43358222 |  45.37952486 | -163.5300 |    0.0000 |  163.5300 | 0.2010385422 |\n",
       "| length |  8 | 50952 |   3.53639739 |   8.44916009 |    0.0000 |  217.8000 |  217.8000 | 0.0374311285 |\n",
       "| width |  9 | 50952 | 108.94428089 | 208.62821871 |    0.0000 | 4400.0000 | 4400.0000 | 0.9242563267 |\n",
       "| ns | 10 | 50952 |   1.00896923 |   0.09654398 |    1.0000 |    3.0000 |    2.0000 | 0.0004277053 |\n",
       "\n"
      ],
      "text/plain": [
       "           vars n     mean         sd           min       max       range    \n",
       "mag         1   50952   0.78142173   0.89596074    0.0000    5.0000    5.0000\n",
       "injuries    2   50952   1.47629141  19.36633680    0.0000 1740.0000 1740.0000\n",
       "fatalities  3   50952   0.09169414   1.59757577    0.0000  158.0000  158.0000\n",
       "start_lat   4   50952  37.10993793   5.10032318   17.7212   61.0200   43.2988\n",
       "start_lon   5   50952 -92.71313851   8.67825243 -163.5300  -64.7151   98.8149\n",
       "end_lat     6   50952  22.80843680  18.55088853    0.0000   61.0200   61.0200\n",
       "end_lon     7   50952 -56.43358222  45.37952486 -163.5300    0.0000  163.5300\n",
       "length      8   50952   3.53639739   8.44916009    0.0000  217.8000  217.8000\n",
       "width       9   50952 108.94428089 208.62821871    0.0000 4400.0000 4400.0000\n",
       "ns         10   50952   1.00896923   0.09654398    1.0000    3.0000    2.0000\n",
       "           se          \n",
       "mag        0.0039692492\n",
       "injuries   0.0857959648\n",
       "fatalities 0.0070775158\n",
       "start_lat  0.0225952462\n",
       "start_lon  0.0384460442\n",
       "end_lat    0.0821833987\n",
       "end_lon    0.2010385422\n",
       "length     0.0374311285\n",
       "width      0.9242563267\n",
       "ns         0.0004277053"
      ]
     },
     "metadata": {},
     "output_type": "display_data"
    }
   ],
   "source": [
    "describe(train_df[, c('mag', 'injuries', 'fatalities', 'start_lat', 'start_lon', 'end_lat', 'end_lon', \n",
    "                'length', 'width', 'ns')], fast = TRUE)"
   ]
  },
  {
   "cell_type": "markdown",
   "id": "19802d1c-5929-4e50-b37f-12f302455394",
   "metadata": {},
   "source": [
    "**Table 1**: Summary table of numerical features"
   ]
  },
  {
   "cell_type": "markdown",
   "id": "292188e1-a02d-4523-be25-dce229002300",
   "metadata": {},
   "source": [
    "7. We create a correlation matrix to view the correlations between features related to `injuries` and `fatalities`. "
   ]
  },
  {
   "cell_type": "code",
   "execution_count": 9,
   "id": "cfb89ea0-8857-458e-812f-c17e5805e43e",
   "metadata": {
    "vscode": {
     "languageId": "r"
    }
   },
   "outputs": [
    {
     "data": {
      "image/png": "[encoded data removed]",
      "text/plain": [
       "plot without title"
      ]
     },
     "metadata": {
      "image/png": {
       "height": 600,
       "width": 600
      }
     },
     "output_type": "display_data"
    }
   ],
   "source": [
    "options(repr.plot.width = 10, repr.plot.height = 10)\n",
    "\n",
    "correlations_plot <- train_df %>%\n",
    "    ggpairs(\n",
    "        columns = c(\"mag\", \"fatalities\", \"length\", \"width\"), \n",
    "        lower = list(\n",
    "            continuous = \"smooth\", \n",
    "            combo = wrap(\"facethist\", binwidth = 2)), \n",
    "        title = \"Figure 1: Correlation matrix of important numeral features and target\") +\n",
    "    theme(plot.title = element_text(size = 20, hjust = 0.5)) \n",
    "correlations_plot"
   ]
  },
  {
   "cell_type": "markdown",
   "id": "c28c15e9-8b6d-4d3e-b6d2-2a5de9ea6bea",
   "metadata": {},
   "source": [
    "From the correlation matrix, we observe that there are some small sized correlations between `fatalities` and other continuous features. For example, there is a correlation of `0.231` between `length` and `fatalities` and a correlation of `0.170` between `width` and `fatalities`.\n",
    "\n",
    "There are also correlations between features that are not the target. For example, there is medium sized correlation of `0.439` between `length` and `mag` and a correlation of `0.417` between `width` and `mag`.\n",
    "\n",
    "These small to medium correlations may suggest that these features could be useful in predicting fatalities."
   ]
  },
  {
   "cell_type": "code",
   "execution_count": 10,
   "id": "97ab8100-c42b-41be-bf30-235470dce3a0",
   "metadata": {
    "vscode": {
     "languageId": "r"
    }
   },
   "outputs": [
    {
     "data": {
      "image/png": "[encoded data removed]",
      "text/plain": [
       "plot without title"
      ]
     },
     "metadata": {
      "image/png": {
       "height": 420,
       "width": 420
      }
     },
     "output_type": "display_data"
    }
   ],
   "source": [
    "options(repr.plot.width = 7, repr.plot.height = 7)\n",
    "\n",
    "fatalities_width_scatterplot = ggplot(train_df, aes(x = width, y = fatalities)) +\n",
    "    geom_point(alpha = 0.4) +\n",
    "    xlab(\"Width (yards) of tornados\") +\n",
    "    ylab(\"Fatalities\") +\n",
    "    theme(text = element_text(size = 14), plot.title = element_text(hjust = 0.5)) + \n",
    "    ggtitle(\"Figure 2: Scatterplot of width (yards) of tornado and fatalities\")\n",
    "fatalities_width_scatterplot"
   ]
  },
  {
   "cell_type": "code",
   "execution_count": 11,
   "id": "f288d1c1-fda8-4948-ba02-84ff36c9bc9b",
   "metadata": {
    "vscode": {
     "languageId": "r"
    }
   },
   "outputs": [
    {
     "data": {
      "image/png": "[encoded data removed]",
      "text/plain": [
       "plot without title"
      ]
     },
     "metadata": {
      "image/png": {
       "height": 420,
       "width": 420
      }
     },
     "output_type": "display_data"
    }
   ],
   "source": [
    "options(repr.plot.width = 7, repr.plot.height = 7)\n",
    "\n",
    "fatalities_length_scatterplot = ggplot(train_df, aes(x = length, y = fatalities)) +\n",
    "    geom_point(alpha = 0.4) +\n",
    "    xlab(\"Length (miles) of tornados\") +\n",
    "    ylab(\"Fatalities\") +\n",
    "    theme(text = element_text(size = 14), plot.title = element_text(hjust = 0.5)) + \n",
    "    ggtitle(\"Figure 3: Scatterplot of length (miles) of tornado and fatalities\")\n",
    "fatalities_length_scatterplot"
   ]
  },
  {
   "cell_type": "markdown",
   "id": "b0ae2567-070d-4691-83f1-206ef17fecdf",
   "metadata": {},
   "source": [
    "Based on the correlation matrix, we decide to use `length` and `width` as features in our model as they are numerical unlike `mag`. "
   ]
  },
  {
   "cell_type": "markdown",
   "id": "3739a60d-b058-402f-aa53-c434b7e4bcac",
   "metadata": {},
   "source": [
    "## Model selection and analysis"
   ]
  },
  {
   "cell_type": "markdown",
   "id": "5465946d-fa30-48f4-abfc-a0b9510e1b18",
   "metadata": {},
   "source": [
    "8. As mentioned previously, our group has decided that we will use a linear regression model to predict tornado casualties. We will be using the variables `width` and `length` as our predictors. The former is a measure of the width of a tornado, while the latter is a measure of length. The units of measurements are yards and miles, respectively.\n",
    "\n",
    "   Now that we have our training data `train_df`, we can fit our linear regression model. We will first specify our model, and then proceed to fit our model and obtain the regression coefficients."
   ]
  },
  {
   "cell_type": "code",
   "execution_count": 12,
   "id": "3bbd69a3-f477-4ffc-8c06-cff5ae8a8e51",
   "metadata": {
    "vscode": {
     "languageId": "r"
    }
   },
   "outputs": [
    {
     "data": {
      "text/plain": [
       "══ Workflow [trained] ══════════════════════════════════════════════════════════════════════════════════════════════════\n",
       "\u001b[3mPreprocessor:\u001b[23m Recipe\n",
       "\u001b[3mModel:\u001b[23m linear_reg()\n",
       "\n",
       "── Preprocessor ────────────────────────────────────────────────────────────────────────────────────────────────────────\n",
       "0 Recipe Steps\n",
       "\n",
       "── Model ───────────────────────────────────────────────────────────────────────────────────────────────────────────────\n",
       "\n",
       "Call:\n",
       "stats::lm(formula = ..y ~ ., data = data)\n",
       "\n",
       "Coefficients:\n",
       "(Intercept)       length        width  \n",
       " -0.1183680    0.0367960    0.0007337  \n"
      ]
     },
     "metadata": {},
     "output_type": "display_data"
    }
   ],
   "source": [
    "# specify prediction model\n",
    "lm_spec <- linear_reg() |>\n",
    "  set_engine(\"lm\") |>\n",
    "  set_mode(\"regression\")\n",
    "\n",
    "# specify recipe\n",
    "lm_recipe <- recipe(fatalities ~ length + width, data = df)\n",
    "\n",
    "# fit the model based on the recipe, specification and training data\n",
    "lm_fit <- workflow() |>\n",
    "  add_recipe(lm_recipe) |>\n",
    "  add_model(lm_spec) |>\n",
    "  fit(data = train_df)\n",
    "\n",
    "lm_fit"
   ]
  },
  {
   "cell_type": "markdown",
   "id": "9e750e49-0683-4114-87da-876dbb630c0f",
   "metadata": {},
   "source": [
    "9. Now that we have our model, we can predict on the testing data `test_df` to assess how well it does."
   ]
  },
  {
   "cell_type": "code",
   "execution_count": 13,
   "id": "cf8d950c-c38c-4f02-a7b6-9cf6b207e09c",
   "metadata": {
    "vscode": {
     "languageId": "r"
    }
   },
   "outputs": [
    {
     "data": {
      "text/html": [
       "<table class=\"dataframe\">\n",
       "<caption>A tibble: 3 × 3</caption>\n",
       "<thead>\n",
       "\t<tr><th scope=col>.metric</th><th scope=col>.estimator</th><th scope=col>.estimate</th></tr>\n",
       "\t<tr><th scope=col>&lt;chr&gt;</th><th scope=col>&lt;chr&gt;</th><th scope=col>&lt;dbl&gt;</th></tr>\n",
       "</thead>\n",
       "<tbody>\n",
       "\t<tr><td>rmse</td><td>standard</td><td>1.00567700</td></tr>\n",
       "\t<tr><td>rsq </td><td>standard</td><td>0.08983574</td></tr>\n",
       "\t<tr><td>mae </td><td>standard</td><td>0.22985357</td></tr>\n",
       "</tbody>\n",
       "</table>\n"
      ],
      "text/latex": [
       "A tibble: 3 × 3\n",
       "\\begin{tabular}{lll}\n",
       " .metric & .estimator & .estimate\\\\\n",
       " <chr> & <chr> & <dbl>\\\\\n",
       "\\hline\n",
       "\t rmse & standard & 1.00567700\\\\\n",
       "\t rsq  & standard & 0.08983574\\\\\n",
       "\t mae  & standard & 0.22985357\\\\\n",
       "\\end{tabular}\n"
      ],
      "text/markdown": [
       "\n",
       "A tibble: 3 × 3\n",
       "\n",
       "| .metric &lt;chr&gt; | .estimator &lt;chr&gt; | .estimate &lt;dbl&gt; |\n",
       "|---|---|---|\n",
       "| rmse | standard | 1.00567700 |\n",
       "| rsq  | standard | 0.08983574 |\n",
       "| mae  | standard | 0.22985357 |\n",
       "\n"
      ],
      "text/plain": [
       "  .metric .estimator .estimate \n",
       "1 rmse    standard   1.00567700\n",
       "2 rsq     standard   0.08983574\n",
       "3 mae     standard   0.22985357"
      ]
     },
     "metadata": {},
     "output_type": "display_data"
    }
   ],
   "source": [
    "# Use lm_fit to predict on test_df and output RMSPE to assess model's test error\n",
    "lm_test_results <- lm_fit |>\n",
    "  predict(test_df) |>\n",
    "  bind_cols(test_df) |>\n",
    "  metrics(truth = fatalities, estimate = .pred)\n",
    "\n",
    "lm_test_results"
   ]
  },
  {
   "cell_type": "markdown",
   "id": "305d2d61-8dc6-4e12-87d3-4aa57a526827",
   "metadata": {},
   "source": [
    "**Table 2**: Results from model with outliers"
   ]
  },
  {
   "cell_type": "markdown",
   "id": "93094363-727f-420a-a8a8-0dd246f900a3",
   "metadata": {},
   "source": [
    "10. We can visualize our linear regression model to get a better idea of how well it performs."
   ]
  },
  {
   "cell_type": "code",
   "execution_count": null,
   "id": "aaa73d32-c2e6-450f-93bb-26809f3c027a",
   "metadata": {
    "vscode": {
     "languageId": "r"
    }
   },
   "outputs": [
    {
     "name": "stderr",
     "output_type": "stream",
     "text": [
      "Warning message:\n",
      "\"\u001b[1m\u001b[22mTransformation introduced infinite values in continuous x-axis\"\n",
      "Warning message:\n",
      "\"\u001b[1m\u001b[22mTransformation introduced infinite values in continuous y-axis\"\n"
     ]
    },
    {
     "data": {
      "image/png": "[encoded data removed]",
      "text/plain": [
       "plot without title"
      ]
     },
     "metadata": {
      "image/png": {
       "height": 420,
       "width": 480
      }
     },
     "output_type": "display_data"
    },
    {
     "name": "stderr",
     "output_type": "stream",
     "text": [
      "Warning message:\n",
      "\"\u001b[1m\u001b[22mTransformation introduced infinite values in continuous y-axis\"\n"
     ]
    }
   ],
   "source": [
    "# Creating plots showing accuracy of linear regression model\n",
    "fatal_rsmpe <- lm_test_results |>\n",
    "    filter(.metric == \"rmse\") |>\n",
    "    select(.estimate) |>\n",
    "    pull()\n",
    "\n",
    "fatal_predictions <- lm_fit |>\n",
    "    predict(test_df) |>\n",
    "    bind_cols(test_df)\n",
    "\n",
    "options(repr.plot.width = 8, repr.plot.height = 7)\n",
    "\n",
    "## Note: Red line represents where points would be plotted if the model was 100% accurate\n",
    "fatal_model_viz <- ggplot(fatal_predictions, aes(x = fatalities, y = .pred)) +\n",
    "    geom_point(alpha = 0.6) +\n",
    "    # geom_line(data = fatal_predictions,\n",
    "    #        mapping = aes(x = fatalities, y = .pred),\n",
    "    #        color = \"steelblue\",\n",
    "    #        linewidth = 1) +\n",
    "    geom_abline(intercept = 0, slope = 1, color = \"red\", linetype = \"dashed\", linewidth = 2)+\n",
    "    scale_x_continuous(trans = \"log10\") + \n",
    "    xlab(\"Actual Number of Fatalities\") +\n",
    "    ylab(\"Predicted Number of Fatalities\") +\n",
    "    ggtitle(\"Figure 4: Actual Number of Fatalities vs Predicted Number of Fatalities\") +\n",
    "    theme(text = element_text(size = 14), plot.title = element_text(hjust = 0.5))\n",
    "\n",
    "fatal_model_viz\n",
    "\n",
    "## Note: Blue line represents predicted values based on our regression model when tornado length = 0\n",
    "fatal_widths_plot <- ggplot(test_df, aes(x = width, y = fatalities)) +\n",
    "     geom_point(alpha = 0.4) +\n",
    "     # geom_line(data = fatal_predictions,\n",
    "     #       mapping = aes(x = width, y = .pred),\n",
    "     #       color = \"steelblue\",\n",
    "     #       linewidth = 1) +\n",
    "     geom_abline(intercept = -0.1183680, slope = 0.0007337, color = \"steelblue\", linewidth = 2) +\n",
    "     scale_y_continuous(trans = \"log10\") + \n",
    "     xlab(\"Tornado Width (Yards)\") +\n",
    "     ylab(\"Fatalities\") +\n",
    "     ggtitle(\"Figure 5: Fatalities vs Width Plot\") +\n",
    "     theme(text = element_text(size = 15), plot.title = element_text(hjust = 0.5))\n",
    "\n",
    "fatal_widths_plot\n",
    "\n",
    "## Note: Blue line represents predicted values based on our regression model when tornado width = 0\n",
    "fatal_length_plot <- ggplot(test_df, aes(x = length, y = fatalities)) +\n",
    "     geom_point(alpha = 0.4) +\n",
    "     # geom_line(data = fatal_predictions,\n",
    "     #       mapping = aes(x = length, y = .pred),\n",
    "     #       color = \"steelblue\",\n",
    "     #       linewidth = 1) +\n",
    "     geom_abline(intercept = -0.1183680, slope = 0.0367960, color = \"steelblue\", linewidth = 2) +\n",
    "     scale_y_continuous(trans = \"log10\") + \n",
    "     xlab(\"Tornado Length (Miles)\") +\n",
    "     ylab(\"Fatalities\") +\n",
    "     ggtitle(\"Figure 6: Fatalities vs Length Plot\") +\n",
    "     theme(text = element_text(size = 15), plot.title = element_text(hjust = 0.5))\n",
    "\n",
    "fatal_length_plot"
   ]
  },
  {
   "cell_type": "markdown",
   "id": "a0739aff-b0c9-454a-a17a-9e76ee2a0e9f",
   "metadata": {},
   "source": [
    "Note there are clear outliers in the data, thus we will perform the same analysis after removing the outliers."
   ]
  },
  {
   "cell_type": "code",
   "execution_count": null,
   "id": "e4b9a03f-db41-462d-8cf1-63c17b99f09b",
   "metadata": {
    "vscode": {
     "languageId": "r"
    }
   },
   "outputs": [],
   "source": [
    "# Checking for outliers\n",
    "\n",
    "boxplot(df$width, main = \"Boxplot of Tornado Widths\", ylab = \"Values\", xlab = \"Tornado Width (Yards)\")\n",
    "boxplot(df$length, main = \"Boxplot of Tornado Lengths\", ylab = \"Values\", xlab = \"Tornado Length (Miles)\")\n",
    "boxplot(df$fatalities, main = \"Boxplot of Tornado Fatalities\", ylab = \"Values\", xlab = \"Number of Fatalities\")"
   ]
  },
  {
   "cell_type": "markdown",
   "id": "62b64a52-114d-41ef-b5cc-b30cd6baab34",
   "metadata": {},
   "source": [
    "Note that, as the majority of tornadoes cause no fatalities and thus removing these outliers will leave us with data only containing tornadoes that caused no death, we will not be filtering outliers for fatalities."
   ]
  },
  {
   "cell_type": "code",
   "execution_count": null,
   "id": "d4fc952e-a47a-497c-a8e0-2a199ef73421",
   "metadata": {
    "vscode": {
     "languageId": "r"
    }
   },
   "outputs": [],
   "source": [
    "# Removing outliers from data frame\n",
    "width_upper_fence <- unname(quantile(df$width, 0.75)) + (1.5 * IQR(df$width))\n",
    "width_lower_fence <- unname(quantile(df$width, 0.25)) - (1.5 * IQR(df$width))\n",
    "\n",
    "length_upper_fence <- unname(quantile(df$length, 0.75)) + (1.5 * IQR(df$length))\n",
    "length_lower_fence <- unname(quantile(df$length, 0.25)) - (1.5 * IQR(df$length))\n",
    "\n",
    "outlierless_df <- df |>\n",
    "    filter(width <= width_upper_fence) |>\n",
    "    filter(width >= width_lower_fence) |>\n",
    "    filter(length <= length_upper_fence) |>\n",
    "    filter(length >= length_lower_fence)"
   ]
  },
  {
   "cell_type": "code",
   "execution_count": null,
   "id": "5794e74f-6cee-486d-a2ed-ef77357c76c8",
   "metadata": {
    "vscode": {
     "languageId": "r"
    }
   },
   "outputs": [],
   "source": [
    "# ## Creating box plots to confirm outliers have been removed\n",
    "# boxplot(outlierless_df$width, main = \"Boxplot of Tornado Widths\", ylab = \"Values\", xlab = \"Tornado Width (Yards)\")\n",
    "# boxplot(outlierless_df$length, main = \"Boxplot of Tornado Lengths\", ylab = \"Values\", xlab = \"Tornado Length (Miles)\")"
   ]
  },
  {
   "cell_type": "code",
   "execution_count": null,
   "id": "3cfe4408-a6cb-4405-be9b-3115b6a6bddb",
   "metadata": {
    "vscode": {
     "languageId": "r"
    }
   },
   "outputs": [],
   "source": [
    "# Creating new model with the new data frame without outliers\n",
    "\n",
    "set.seed(2000)\n",
    "\n",
    "new_data_split <- initial_split(outlierless_df, prop = 0.75, strata = fatalities)\n",
    "new_train_df <- training(new_data_split)\n",
    "new_test_df <- testing(new_data_split)\n",
    "\n",
    "new_lm_spec <- linear_reg() |>\n",
    "  set_engine(\"lm\") |>\n",
    "  set_mode(\"regression\")\n",
    "\n",
    "# specify recipe\n",
    "new_lm_recipe <- recipe(fatalities ~ length + width, data = outlierless_df)\n",
    "\n",
    "# fit the model based on the recipe, specification and training data\n",
    "new_lm_fit <- workflow() |>\n",
    "  add_recipe(new_lm_recipe) |>\n",
    "  add_model(new_lm_spec) |>\n",
    "  fit(data = new_train_df)\n",
    "\n",
    "new_lm_fit"
   ]
  },
  {
   "cell_type": "code",
   "execution_count": null,
   "id": "23f0e62b-6b8e-42e4-b09c-b72c2a2fc60b",
   "metadata": {
    "vscode": {
     "languageId": "r"
    }
   },
   "outputs": [],
   "source": [
    "# Use new_lm_fit to predict on new_test_df and output RMSPE to assess model's test error\n",
    "new_lm_test_results <- new_lm_fit |>\n",
    "  predict(new_test_df) |>\n",
    "  bind_cols(new_test_df) |>\n",
    "  metrics(truth = fatalities, estimate = .pred)\n",
    "\n",
    "new_lm_test_results"
   ]
  },
  {
   "cell_type": "markdown",
   "id": "6216c915-7535-47ea-8e7e-bf3dcfd7f09c",
   "metadata": {},
   "source": [
    "**Table 3**: Results from model without outliers"
   ]
  },
  {
   "cell_type": "code",
   "execution_count": null,
   "id": "fa49a96e-219e-43cd-963e-8d5dc65b6786",
   "metadata": {
    "vscode": {
     "languageId": "r"
    }
   },
   "outputs": [],
   "source": [
    "# Creating plots showing accuracy of new linear regression model\n",
    "new_fatal_rsmpe <- new_lm_test_results |>\n",
    "    filter(.metric == \"rmse\") |>\n",
    "    select(.estimate) |>\n",
    "    pull()\n",
    "\n",
    "new_fatal_predictions <- new_lm_fit |>\n",
    "    predict(new_test_df) |>\n",
    "    bind_cols(new_test_df)\n",
    "\n",
    "options(repr.plot.width = 12, repr.plot.height = 6)\n",
    "\n",
    "## Note: Red line represents where points would be plotted if the model was 100% accurate\n",
    "new_fatal_model_viz <- ggplot(new_fatal_predictions, aes(x = fatalities, y = .pred)) +\n",
    "    geom_point(alpha = 0.6) +\n",
    "    # geom_line(data = fatal_predictions,\n",
    "    #        mapping = aes(x = fatalities, y = .pred),\n",
    "    #        color = \"steelblue\",\n",
    "    #        linewidth = 1) +\n",
    "    geom_abline(intercept = 0, slope = 1, color = \"red\", linetype = \"dashed\", linewidth = 2)+\n",
    "    scale_x_continuous(trans = \"log10\") + \n",
    "    xlab(\"Actual Number of Fatalities\") +\n",
    "    ylab(\"Predicted Number of Fatalities\") +\n",
    "    ggtitle(\"Figure 7: Actual Number of Fatalities vs Predicted Number of Fatalities\") +\n",
    "    theme(text = element_text(size = 15), plot.title = element_text(hjust = 0.5))\n",
    "\n",
    "new_fatal_model_viz\n",
    "\n",
    "## Note: Blue line represents predicted values based on our regression model when tornado length = 0\n",
    "new_fatal_widths_plot <- ggplot(new_test_df, aes(x = width, y = fatalities)) +\n",
    "     geom_point(alpha = 0.4) +\n",
    "     # geom_line(data = fatal_predictions,\n",
    "     #       mapping = aes(x = width, y = .pred),\n",
    "     #       color = \"steelblue\",\n",
    "     #       linewidth = 1) +\n",
    "     geom_abline(intercept = 0.003074, slope = 0.00004429, color = \"steelblue\", linewidth = 2) +\n",
    "     scale_y_continuous(trans = \"log10\") + \n",
    "     xlab(\"Tornado Width (Yards)\") +\n",
    "     ylab(\"Fatalities\") +\n",
    "     ggtitle(\"Figure 8: Fatalities vs Width Plot\") +\n",
    "     theme(text = element_text(size = 15), plot.title = element_text(hjust = 0.5))\n",
    "\n",
    "new_fatal_widths_plot\n",
    "\n",
    "## Note: Blue line represents predicted values based on our regression model when tornado width = 0\n",
    "new_fatal_length_plot <- ggplot(new_test_df, aes(x = length, y = fatalities)) +\n",
    "     geom_point(alpha = 0.4) +\n",
    "     # geom_line(data = fatal_predictions,\n",
    "     #       mapping = aes(x = length, y = .pred),\n",
    "     #       color = \"steelblue\",\n",
    "     #       linewidth = 1) +\n",
    "     geom_abline(intercept = 0.003074, slope = 0.003195, color = \"steelblue\", linewidth = 2) +\n",
    "     scale_y_continuous(trans = \"log10\") + \n",
    "     xlab(\"Tornado Length (Miles)\") +\n",
    "     ylab(\"Fatalities\") +\n",
    "     ggtitle(\"Figure 9: Fatalities vs Length Plot\") +\n",
    "     theme(text = element_text(size = 15), plot.title = element_text(hjust = 0.5))\n",
    "\n",
    "new_fatal_length_plot"
   ]
  },
  {
   "cell_type": "markdown",
   "id": "6fe210b2-6603-47d4-a4f9-c8b0347094a4",
   "metadata": {},
   "source": [
    "# Discussion and Results"
   ]
  },
  {
   "cell_type": "markdown",
   "id": "a72c5b4a-c816-41b6-8b1c-cecc589acb61",
   "metadata": {},
   "source": [
    "Our initial exploration of features width and length demonstrated a positive correlation with our target, fatalities. Length and fatalities show a correlation of `0.237`, whereas width and fatalities show a correlation of `0.174`. The values are small but illustrate a stronger positive relationship between length and fatalities.\n",
    "\n",
    "Before constructing our model, we performed a 75/25 split on our data for reproducibility and validity.\n",
    "\n",
    "From our multivariable linear regression model with the inclusion of outliers, we can write an equation of best fit: \n",
    "\n",
    "$Tornado$ $fatalities$ = $0.0367960$ x ($length$ $of$ $tornado$) + $0.0007337$ x ($width$ $of$ $tornado$) - $0.1183680$\n",
    "\n",
    "The coefficients and intercept of the equation are positive but small demonstrating that our features `length` and `width` may not have a large impact on predicting tornado fatalities. This signifies that the features may not be leading to precise predictions. Our results follow our initial exploration of the data, where we saw small positive correlations.\n",
    "\n",
    "On the other hand, we obtain an RMSPE score for this multivariable linear regression of `1.00567700` tornado fatalities (Table 2). This prediction error is very low, indicating that our model fits the data well and our predictions are more precise. \n",
    "\n",
    "As noted in our analysis section, removing the outliers leaves us with tornadoes that cause no deaths. Nonetheless, we decided to keep the linear regression model without the outliers to observe if any differences were seen in the equation and RMSPE score. \n",
    "\n",
    "The equation of best fit for our multilinear regression model without the outliers is: \n",
    "\n",
    "$Tornado$ $fatalities$ = $0.0048939$ x ($length$ $of$ $tornado$) + $0.0001736$ x ($width$ $of$ $tornado$) - $0.0022491$\n",
    "\n",
    "Compared to the model including outliers, the coefficients and the intercept are much smaller, implying that these features have less of an impact on predicting tornado fatalities and are more likely to lead to less precise predictions. \n",
    "\n",
    "The RMSPE score here is `0.189469674` tornado fatalities (Table 3), suggesting that it makes fewer errors than the model with the outliers.\n",
    "\n",
    "From Figure 5, 6, 8, and 9, the plots from the model with the outliers seem more interpretable than the ones from the model without the outliers, as the slope is an almost flat one. On the other hand, by observing Figure 4 and 7, the plots showing the actual number of fatalities vs the predicted number of fatalities of both models, we can conclude that the reason why the model without the outliers has a lower RMSPE score is because the outliers were removed, thus making it easier to predict the fatalities that are more closely located than fatalities that are along a longer range. \n",
    "\n",
    "Therefore, we can conclude that our model has a lower RMSPE score, which is preferable in a multilinear regression model. However, it also does not have very strong coefficients for predicting the number of fatalities. \n",
    "\n",
    "In terms of expectations, given the small correlations that length and width have with the number of tornado fatalities, it is expected that our model does not have very large coefficients. In terms of the RMSPE score, we did not have an expectation as to how our model would perform. However, we did not expect the RMSPE score to be so low as typically if the coefficients are smaller, then they have less impact on the predictions and thus may lead to more erroneous predictions. \n",
    "\n",
    "Despite the low coefficients of our model equations, the low RMSPE scores suggest that if this model were to be deployed to predict the number of fatalities from tornadoes in the U.S., then it may have the ability to predict them without so much error. Therefore, our model could have some utility in such aspects. \n",
    "\n",
    "However, we believe that because of the limitations of our model, it would be interesting to observe the impact of using other features to predict the number of fatalities from tornadoes, such as `mag`. Furthermore, it could also be valuable to explore how well we could predict the number of injuries using the same features that we did, namely `length` and `width`. The total number of casualties (fatalities and injuries) could also be predicted using `length` and `width` and perhaps other features. "
   ]
  },
  {
   "cell_type": "markdown",
   "id": "2f7aca0f-e4f6-43f1-87fb-dd324f85099f",
   "metadata": {},
   "source": [
    "# References"
   ]
  },
  {
   "cell_type": "markdown",
   "id": "6645c55a-fbde-4e62-abfc-73cd1f14447a",
   "metadata": {},
   "source": [
    "Angerer, P., Kluyver, T., Schulz, J., abielr, Sa, D. F. de, Hester, J., karldw, Foster, D., & Sievert, C. (2023, January 26). *repr (1.1.6): Serializable Representations.* https://cran.r-project.org/package=repr\n",
    "\n",
    "Chinchar, A. (2022, November 28). *Here’s Why the US has More Tornadoes than Any Other Country*. CNN. https://www.cnn.com/2022/11/28/weather/us-leads-tornado-numbers-tornado-alley-xpn/index.html\n",
    "\n",
    "Hadley Wickham, & RStudio. (2017). *tidyverse (2.0.0): Easily Install and Load the “Tidyverse.”* https://cran.r-project.org/package=tidyverse\n",
    "\n",
    "Kuhn , M., Wickham, H., Software, P., & PBC. (2023, August 24). *tidymodels (1.1.0): Easily Install and Load the “Tidymodels” Packages*. https://cran.r-project.org/package=tidymodels\n",
    "\n",
    "R Core Team. (2022). *R (4.3.2): A Language and Environment for Statistical Computing*. R Foundation for Statistical Computing. https://www.r-project.org/\n",
    "\n",
    "Revelle, W. (2019). *psych (2.3.3): Procedures for Psychological, Psychometric, and Personality Research*. https://cran.r-project.org/package=psych\n",
    "\n",
    "Schloerke, B., Cook, D., Larmarange, J., Briatte, F., Marbach, M., Thoen, E., Elberg, A., Toomet, O., Crowley, J., Hofmann, H., & Wickham, H. (2020, June 6). *GGally (2.1.2): Extension to “ggplot2.”* https://cran.r-project.org/package=GGally\n",
    "\n",
    "Storm Prediction Center. (2023, February 19). *F5 and EF5 tornadoes of the United States - 1950-present (SPC)*. Noaa.gov; NOAA’s National Weather Service. https://www.spc.noaa.gov/faq/tornado/f5torns.html \n",
    "\n",
    "*tidytuesday/data/2023/2023-05-16 at master · rfordatascience/tidytuesday*. GitHub. https://github.com/rfordatascience/tidytuesday/tree/master/data/2023/2023-05-16"
   ]
  }
 ],
 "metadata": {
  "kernelspec": {
   "display_name": "R [conda env:dsci_project]",
   "language": "R",
   "name": "conda-env-dsci_project-r"
  },
  "language_info": {
   "codemirror_mode": "r",
   "file_extension": ".r",
   "mimetype": "text/x-r-source",
   "name": "R",
   "pygments_lexer": "r",
   "version": "4.3.2"
  }
 },
 "nbformat": 4,
 "nbformat_minor": 5
}

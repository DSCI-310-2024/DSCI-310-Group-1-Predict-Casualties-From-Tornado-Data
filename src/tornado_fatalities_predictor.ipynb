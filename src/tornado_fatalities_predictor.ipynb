{
 "cells": [
  {
   "cell_type": "markdown",
   "id": "903e04f9-d3d0-4a63-94f7-e1ad7e07cdfb",
   "metadata": {},
   "source": [
    "# Predicting Fatalities from Tornado Data (Group 1)"
   ]
  },
  {
   "cell_type": "markdown",
   "id": "6d37b603-d6c6-4569-91f1-6d49d8f6ebf2",
   "metadata": {},
   "source": [
    "**Authors**: Erika Delorme, Marcela Flaherty, Riddha Tuladhar, Edwin Yeung"
   ]
  },
  {
   "cell_type": "markdown",
   "id": "748f8ea1-b5cf-49c4-a891-38058a57a179",
   "metadata": {},
   "source": [
    "# Summary"
   ]
  },
  {
   "cell_type": "markdown",
   "id": "4187fbdd-5bd1-444e-8a9c-d2f69a2dd82d",
   "metadata": {},
   "source": []
  },
  {
   "cell_type": "markdown",
   "id": "f9e56574-483f-4d29-b4aa-44f8a5168a47",
   "metadata": {},
   "source": [
    "# Introduction"
   ]
  },
  {
   "cell_type": "markdown",
   "id": "d891fb3c-693f-4068-aeed-8be2e173e1cf",
   "metadata": {},
   "source": []
  },
  {
   "cell_type": "markdown",
   "id": "56576fe4-a54a-4154-a16d-6a4a799219f8",
   "metadata": {},
   "source": [
    "# Methods & Results"
   ]
  },
  {
   "cell_type": "markdown",
   "id": "30addd3d-1a49-4d1e-ad06-c5cde5675214",
   "metadata": {},
   "source": [
    "## Data wrangling and cleaning"
   ]
  },
  {
   "cell_type": "markdown",
   "id": "377fe469-edf6-4381-af27-2cfd79746c90",
   "metadata": {},
   "source": [
    "1. First, we load the necessary packages. "
   ]
  },
  {
   "cell_type": "code",
   "execution_count": 1,
   "id": "6486f35c-da96-4c22-84c0-b89e9556da26",
   "metadata": {
    "vscode": {
     "languageId": "r"
    }
   },
   "outputs": [
    {
     "name": "stderr",
     "output_type": "stream",
     "text": [
      "-- \u001b[1mAttaching core tidyverse packages\u001b[22m ------------------------------------------------------------------------------------------------------------------ tidyverse 2.0.0 --\n",
      "\u001b[32mv\u001b[39m \u001b[34mdplyr    \u001b[39m 1.1.4     \u001b[32mv\u001b[39m \u001b[34mreadr    \u001b[39m 2.1.5\n",
      "\u001b[32mv\u001b[39m \u001b[34mforcats  \u001b[39m 1.0.0     \u001b[32mv\u001b[39m \u001b[34mstringr  \u001b[39m 1.5.0\n",
      "\u001b[32mv\u001b[39m \u001b[34mggplot2  \u001b[39m 3.4.2     \u001b[32mv\u001b[39m \u001b[34mtibble   \u001b[39m 3.2.1\n",
      "\u001b[32mv\u001b[39m \u001b[34mlubridate\u001b[39m 1.9.3     \u001b[32mv\u001b[39m \u001b[34mtidyr    \u001b[39m 1.3.1\n",
      "\u001b[32mv\u001b[39m \u001b[34mpurrr    \u001b[39m 1.0.2     \n",
      "-- \u001b[1mConflicts\u001b[22m ------------------------------------------------------------------------------------------------------------------------------------ tidyverse_conflicts() --\n",
      "\u001b[31mx\u001b[39m \u001b[34mdplyr\u001b[39m::\u001b[32mfilter()\u001b[39m masks \u001b[34mstats\u001b[39m::filter()\n",
      "\u001b[31mx\u001b[39m \u001b[34mdplyr\u001b[39m::\u001b[32mlag()\u001b[39m    masks \u001b[34mstats\u001b[39m::lag()\n",
      "\u001b[36mi\u001b[39m Use the conflicted package (\u001b[3m\u001b[34m<http://conflicted.r-lib.org/>\u001b[39m\u001b[23m) to force all conflicts to become errors\n",
      "-- \u001b[1mAttaching packages\u001b[22m -------------------------------------------------------------------------------------------------------------------------------- tidymodels 1.1.0 --\n",
      "\n",
      "\u001b[32mv\u001b[39m \u001b[34mbroom       \u001b[39m 1.0.5     \u001b[32mv\u001b[39m \u001b[34mrsample     \u001b[39m 1.1.1\n",
      "\u001b[32mv\u001b[39m \u001b[34mdials       \u001b[39m 1.2.0     \u001b[32mv\u001b[39m \u001b[34mtune        \u001b[39m 1.1.1\n",
      "\u001b[32mv\u001b[39m \u001b[34minfer       \u001b[39m 1.0.4     \u001b[32mv\u001b[39m \u001b[34mworkflows   \u001b[39m 1.1.3\n",
      "\u001b[32mv\u001b[39m \u001b[34mmodeldata   \u001b[39m 1.1.0     \u001b[32mv\u001b[39m \u001b[34mworkflowsets\u001b[39m 1.0.1\n",
      "\u001b[32mv\u001b[39m \u001b[34mparsnip     \u001b[39m 1.1.0     \u001b[32mv\u001b[39m \u001b[34myardstick   \u001b[39m 1.3.0\n",
      "\u001b[32mv\u001b[39m \u001b[34mrecipes     \u001b[39m 1.0.6     \n",
      "\n",
      "-- \u001b[1mConflicts\u001b[22m ----------------------------------------------------------------------------------------------------------------------------------- tidymodels_conflicts() --\n",
      "\u001b[31mx\u001b[39m \u001b[34mscales\u001b[39m::\u001b[32mdiscard()\u001b[39m masks \u001b[34mpurrr\u001b[39m::discard()\n",
      "\u001b[31mx\u001b[39m \u001b[34mdplyr\u001b[39m::\u001b[32mfilter()\u001b[39m   masks \u001b[34mstats\u001b[39m::filter()\n",
      "\u001b[31mx\u001b[39m \u001b[34mrecipes\u001b[39m::\u001b[32mfixed()\u001b[39m  masks \u001b[34mstringr\u001b[39m::fixed()\n",
      "\u001b[31mx\u001b[39m \u001b[34mdplyr\u001b[39m::\u001b[32mlag()\u001b[39m      masks \u001b[34mstats\u001b[39m::lag()\n",
      "\u001b[31mx\u001b[39m \u001b[34myardstick\u001b[39m::\u001b[32mspec()\u001b[39m masks \u001b[34mreadr\u001b[39m::spec()\n",
      "\u001b[31mx\u001b[39m \u001b[34mrecipes\u001b[39m::\u001b[32mstep()\u001b[39m   masks \u001b[34mstats\u001b[39m::step()\n",
      "\u001b[34m*\u001b[39m Learn how to get started at \u001b[32mhttps://www.tidymodels.org/start/\u001b[39m\n",
      "\n",
      "\n",
      "Attaching package: 'psych'\n",
      "\n",
      "\n",
      "The following objects are masked from 'package:scales':\n",
      "\n",
      "    alpha, rescale\n",
      "\n",
      "\n",
      "The following objects are masked from 'package:ggplot2':\n",
      "\n",
      "    %+%, alpha\n",
      "\n",
      "\n",
      "Registered S3 method overwritten by 'GGally':\n",
      "  method from   \n",
      "  +.gg   ggplot2\n",
      "\n"
     ]
    }
   ],
   "source": [
    "library(repr)\n",
    "library(tidyverse)\n",
    "library(tidymodels)\n",
    "library(psych)\n",
    "library(GGally)"
   ]
  },
  {
   "cell_type": "markdown",
   "id": "81b13872-75ec-4087-8d18-c3656c4b957c",
   "metadata": {},
   "source": [
    "2. Then, we read in the data about tornadoes directly from the website. "
   ]
  },
  {
   "cell_type": "code",
   "execution_count": 2,
   "id": "05baf8a0-fcfc-4fbb-bd3d-b8bed01b1f4f",
   "metadata": {
    "vscode": {
     "languageId": "r"
    }
   },
   "outputs": [
    {
     "data": {
      "text/html": [
       "<table class=\"dataframe\">\n",
       "<caption>A data.frame: 6 × 27</caption>\n",
       "<thead>\n",
       "\t<tr><th></th><th scope=col>om</th><th scope=col>yr</th><th scope=col>mo</th><th scope=col>dy</th><th scope=col>date</th><th scope=col>time</th><th scope=col>tz</th><th scope=col>datetime_utc</th><th scope=col>st</th><th scope=col>stf</th><th scope=col>...</th><th scope=col>elon</th><th scope=col>len</th><th scope=col>wid</th><th scope=col>ns</th><th scope=col>sn</th><th scope=col>f1</th><th scope=col>f2</th><th scope=col>f3</th><th scope=col>f4</th><th scope=col>fc</th></tr>\n",
       "\t<tr><th></th><th scope=col>&lt;int&gt;</th><th scope=col>&lt;int&gt;</th><th scope=col>&lt;int&gt;</th><th scope=col>&lt;int&gt;</th><th scope=col>&lt;chr&gt;</th><th scope=col>&lt;chr&gt;</th><th scope=col>&lt;chr&gt;</th><th scope=col>&lt;chr&gt;</th><th scope=col>&lt;chr&gt;</th><th scope=col>&lt;int&gt;</th><th scope=col>...</th><th scope=col>&lt;dbl&gt;</th><th scope=col>&lt;dbl&gt;</th><th scope=col>&lt;int&gt;</th><th scope=col>&lt;int&gt;</th><th scope=col>&lt;int&gt;</th><th scope=col>&lt;int&gt;</th><th scope=col>&lt;int&gt;</th><th scope=col>&lt;int&gt;</th><th scope=col>&lt;int&gt;</th><th scope=col>&lt;lgl&gt;</th></tr>\n",
       "</thead>\n",
       "<tbody>\n",
       "\t<tr><th scope=row>1</th><td>192</td><td>1950</td><td>10</td><td> 1</td><td>1950-10-01</td><td>21:00:00</td><td>America/Chicago</td><td>1950-10-02T03:00:00Z</td><td>OK</td><td>40</td><td>...</td><td>-102.30</td><td>15.8</td><td> 10</td><td>1</td><td>1</td><td> 25</td><td> 0</td><td>0</td><td>0</td><td>FALSE</td></tr>\n",
       "\t<tr><th scope=row>2</th><td>193</td><td>1950</td><td>10</td><td> 9</td><td>1950-10-09</td><td>02:15:00</td><td>America/Chicago</td><td>1950-10-09T08:15:00Z</td><td>NC</td><td>37</td><td>...</td><td>   0.00</td><td> 2.0</td><td>880</td><td>1</td><td>1</td><td> 47</td><td> 0</td><td>0</td><td>0</td><td>FALSE</td></tr>\n",
       "\t<tr><th scope=row>3</th><td>195</td><td>1950</td><td>11</td><td>20</td><td>1950-11-20</td><td>02:20:00</td><td>America/Chicago</td><td>1950-11-20T08:20:00Z</td><td>KY</td><td>21</td><td>...</td><td>   0.00</td><td> 0.1</td><td> 10</td><td>1</td><td>1</td><td>177</td><td> 0</td><td>0</td><td>0</td><td>FALSE</td></tr>\n",
       "\t<tr><th scope=row>4</th><td>196</td><td>1950</td><td>11</td><td>20</td><td>1950-11-20</td><td>04:00:00</td><td>America/Chicago</td><td>1950-11-20T10:00:00Z</td><td>KY</td><td>21</td><td>...</td><td>   0.00</td><td> 0.1</td><td> 10</td><td>1</td><td>1</td><td>209</td><td> 0</td><td>0</td><td>0</td><td>FALSE</td></tr>\n",
       "\t<tr><th scope=row>5</th><td>197</td><td>1950</td><td>11</td><td>20</td><td>1950-11-20</td><td>07:30:00</td><td>America/Chicago</td><td>1950-11-20T13:30:00Z</td><td>MS</td><td>28</td><td>...</td><td>   0.00</td><td> 2.0</td><td> 37</td><td>1</td><td>1</td><td>101</td><td> 0</td><td>0</td><td>0</td><td>FALSE</td></tr>\n",
       "\t<tr><th scope=row>6</th><td>194</td><td>1950</td><td>11</td><td> 4</td><td>1950-11-04</td><td>17:00:00</td><td>America/Chicago</td><td>1950-11-04T23:00:00Z</td><td>PA</td><td>42</td><td>...</td><td> -75.93</td><td>15.9</td><td>100</td><td>1</td><td>1</td><td> 71</td><td>11</td><td>0</td><td>0</td><td>FALSE</td></tr>\n",
       "</tbody>\n",
       "</table>\n"
      ],
      "text/latex": [
       "A data.frame: 6 × 27\n",
       "\\begin{tabular}{r|lllllllllllllllllllll}\n",
       "  & om & yr & mo & dy & date & time & tz & datetime\\_utc & st & stf & ... & elon & len & wid & ns & sn & f1 & f2 & f3 & f4 & fc\\\\\n",
       "  & <int> & <int> & <int> & <int> & <chr> & <chr> & <chr> & <chr> & <chr> & <int> & ... & <dbl> & <dbl> & <int> & <int> & <int> & <int> & <int> & <int> & <int> & <lgl>\\\\\n",
       "\\hline\n",
       "\t1 & 192 & 1950 & 10 &  1 & 1950-10-01 & 21:00:00 & America/Chicago & 1950-10-02T03:00:00Z & OK & 40 & ... & -102.30 & 15.8 &  10 & 1 & 1 &  25 &  0 & 0 & 0 & FALSE\\\\\n",
       "\t2 & 193 & 1950 & 10 &  9 & 1950-10-09 & 02:15:00 & America/Chicago & 1950-10-09T08:15:00Z & NC & 37 & ... &    0.00 &  2.0 & 880 & 1 & 1 &  47 &  0 & 0 & 0 & FALSE\\\\\n",
       "\t3 & 195 & 1950 & 11 & 20 & 1950-11-20 & 02:20:00 & America/Chicago & 1950-11-20T08:20:00Z & KY & 21 & ... &    0.00 &  0.1 &  10 & 1 & 1 & 177 &  0 & 0 & 0 & FALSE\\\\\n",
       "\t4 & 196 & 1950 & 11 & 20 & 1950-11-20 & 04:00:00 & America/Chicago & 1950-11-20T10:00:00Z & KY & 21 & ... &    0.00 &  0.1 &  10 & 1 & 1 & 209 &  0 & 0 & 0 & FALSE\\\\\n",
       "\t5 & 197 & 1950 & 11 & 20 & 1950-11-20 & 07:30:00 & America/Chicago & 1950-11-20T13:30:00Z & MS & 28 & ... &    0.00 &  2.0 &  37 & 1 & 1 & 101 &  0 & 0 & 0 & FALSE\\\\\n",
       "\t6 & 194 & 1950 & 11 &  4 & 1950-11-04 & 17:00:00 & America/Chicago & 1950-11-04T23:00:00Z & PA & 42 & ... &  -75.93 & 15.9 & 100 & 1 & 1 &  71 & 11 & 0 & 0 & FALSE\\\\\n",
       "\\end{tabular}\n"
      ],
      "text/markdown": [
       "\n",
       "A data.frame: 6 × 27\n",
       "\n",
       "| <!--/--> | om &lt;int&gt; | yr &lt;int&gt; | mo &lt;int&gt; | dy &lt;int&gt; | date &lt;chr&gt; | time &lt;chr&gt; | tz &lt;chr&gt; | datetime_utc &lt;chr&gt; | st &lt;chr&gt; | stf &lt;int&gt; | ... ... | elon &lt;dbl&gt; | len &lt;dbl&gt; | wid &lt;int&gt; | ns &lt;int&gt; | sn &lt;int&gt; | f1 &lt;int&gt; | f2 &lt;int&gt; | f3 &lt;int&gt; | f4 &lt;int&gt; | fc &lt;lgl&gt; |\n",
       "|---|---|---|---|---|---|---|---|---|---|---|---|---|---|---|---|---|---|---|---|---|---|\n",
       "| 1 | 192 | 1950 | 10 |  1 | 1950-10-01 | 21:00:00 | America/Chicago | 1950-10-02T03:00:00Z | OK | 40 | ... | -102.30 | 15.8 |  10 | 1 | 1 |  25 |  0 | 0 | 0 | FALSE |\n",
       "| 2 | 193 | 1950 | 10 |  9 | 1950-10-09 | 02:15:00 | America/Chicago | 1950-10-09T08:15:00Z | NC | 37 | ... |    0.00 |  2.0 | 880 | 1 | 1 |  47 |  0 | 0 | 0 | FALSE |\n",
       "| 3 | 195 | 1950 | 11 | 20 | 1950-11-20 | 02:20:00 | America/Chicago | 1950-11-20T08:20:00Z | KY | 21 | ... |    0.00 |  0.1 |  10 | 1 | 1 | 177 |  0 | 0 | 0 | FALSE |\n",
       "| 4 | 196 | 1950 | 11 | 20 | 1950-11-20 | 04:00:00 | America/Chicago | 1950-11-20T10:00:00Z | KY | 21 | ... |    0.00 |  0.1 |  10 | 1 | 1 | 209 |  0 | 0 | 0 | FALSE |\n",
       "| 5 | 197 | 1950 | 11 | 20 | 1950-11-20 | 07:30:00 | America/Chicago | 1950-11-20T13:30:00Z | MS | 28 | ... |    0.00 |  2.0 |  37 | 1 | 1 | 101 |  0 | 0 | 0 | FALSE |\n",
       "| 6 | 194 | 1950 | 11 |  4 | 1950-11-04 | 17:00:00 | America/Chicago | 1950-11-04T23:00:00Z | PA | 42 | ... |  -75.93 | 15.9 | 100 | 1 | 1 |  71 | 11 | 0 | 0 | FALSE |\n",
       "\n"
      ],
      "text/plain": [
       "  om  yr   mo dy date       time     tz              datetime_utc         st\n",
       "1 192 1950 10  1 1950-10-01 21:00:00 America/Chicago 1950-10-02T03:00:00Z OK\n",
       "2 193 1950 10  9 1950-10-09 02:15:00 America/Chicago 1950-10-09T08:15:00Z NC\n",
       "3 195 1950 11 20 1950-11-20 02:20:00 America/Chicago 1950-11-20T08:20:00Z KY\n",
       "4 196 1950 11 20 1950-11-20 04:00:00 America/Chicago 1950-11-20T10:00:00Z KY\n",
       "5 197 1950 11 20 1950-11-20 07:30:00 America/Chicago 1950-11-20T13:30:00Z MS\n",
       "6 194 1950 11  4 1950-11-04 17:00:00 America/Chicago 1950-11-04T23:00:00Z PA\n",
       "  stf ... elon    len  wid ns sn f1  f2 f3 f4 fc   \n",
       "1 40  ... -102.30 15.8  10 1  1   25  0 0  0  FALSE\n",
       "2 37  ...    0.00  2.0 880 1  1   47  0 0  0  FALSE\n",
       "3 21  ...    0.00  0.1  10 1  1  177  0 0  0  FALSE\n",
       "4 21  ...    0.00  0.1  10 1  1  209  0 0  0  FALSE\n",
       "5 28  ...    0.00  2.0  37 1  1  101  0 0  0  FALSE\n",
       "6 42  ...  -75.93 15.9 100 1  1   71 11 0  0  FALSE"
      ]
     },
     "metadata": {},
     "output_type": "display_data"
    }
   ],
   "source": [
    "# Load data\n",
    "URL <- \"https://raw.githubusercontent.com/rfordatascience/tidytuesday/a9e277dd77331e9091e151bb5adb584742064b3e/data/2023/2023-05-16/tornados.csv\"\n",
    "tornado_data <- read.csv(URL)\n",
    "\n",
    "head(tornado_data)"
   ]
  },
  {
   "cell_type": "markdown",
   "id": "57e588c3-7a73-4efc-a9c2-6701451865ef",
   "metadata": {},
   "source": [
    "3. Next, we wrangle and clean the data. Firstly, we check for missing values in our cleaned data."
   ]
  },
  {
   "cell_type": "code",
   "execution_count": 3,
   "id": "b117539a-19d7-46c0-a11d-e4741c14d52b",
   "metadata": {
    "vscode": {
     "languageId": "r"
    }
   },
   "outputs": [
    {
     "data": {
      "text/html": [
       "<style>\n",
       ".dl-inline {width: auto; margin:0; padding: 0}\n",
       ".dl-inline>dt, .dl-inline>dd {float: none; width: auto; display: inline-block}\n",
       ".dl-inline>dt::after {content: \":\\0020\"; padding-right: .5ex}\n",
       ".dl-inline>dt:not(:first-of-type) {padding-left: .5ex}\n",
       "</style><dl class=dl-inline><dt>om</dt><dd>0</dd><dt>yr</dt><dd>0</dd><dt>mo</dt><dd>0</dd><dt>dy</dt><dd>0</dd><dt>date</dt><dd>0</dd><dt>time</dt><dd>0</dd><dt>tz</dt><dd>0</dd><dt>datetime_utc</dt><dd>0</dd><dt>st</dt><dd>0</dd><dt>stf</dt><dd>0</dd><dt>mag</dt><dd>756</dd><dt>inj</dt><dd>0</dd><dt>fat</dt><dd>0</dd><dt>loss</dt><dd>27170</dd><dt>slat</dt><dd>0</dd><dt>slon</dt><dd>0</dd><dt>elat</dt><dd>0</dd><dt>elon</dt><dd>0</dd><dt>len</dt><dd>0</dd><dt>wid</dt><dd>0</dd><dt>ns</dt><dd>0</dd><dt>sn</dt><dd>0</dd><dt>f1</dt><dd>0</dd><dt>f2</dt><dd>0</dd><dt>f3</dt><dd>0</dd><dt>f4</dt><dd>0</dd><dt>fc</dt><dd>0</dd></dl>\n"
      ],
      "text/latex": [
       "\\begin{description*}\n",
       "\\item[om] 0\n",
       "\\item[yr] 0\n",
       "\\item[mo] 0\n",
       "\\item[dy] 0\n",
       "\\item[date] 0\n",
       "\\item[time] 0\n",
       "\\item[tz] 0\n",
       "\\item[datetime\\textbackslash{}\\_utc] 0\n",
       "\\item[st] 0\n",
       "\\item[stf] 0\n",
       "\\item[mag] 756\n",
       "\\item[inj] 0\n",
       "\\item[fat] 0\n",
       "\\item[loss] 27170\n",
       "\\item[slat] 0\n",
       "\\item[slon] 0\n",
       "\\item[elat] 0\n",
       "\\item[elon] 0\n",
       "\\item[len] 0\n",
       "\\item[wid] 0\n",
       "\\item[ns] 0\n",
       "\\item[sn] 0\n",
       "\\item[f1] 0\n",
       "\\item[f2] 0\n",
       "\\item[f3] 0\n",
       "\\item[f4] 0\n",
       "\\item[fc] 0\n",
       "\\end{description*}\n"
      ],
      "text/markdown": [
       "om\n",
       ":   0yr\n",
       ":   0mo\n",
       ":   0dy\n",
       ":   0date\n",
       ":   0time\n",
       ":   0tz\n",
       ":   0datetime_utc\n",
       ":   0st\n",
       ":   0stf\n",
       ":   0mag\n",
       ":   756inj\n",
       ":   0fat\n",
       ":   0loss\n",
       ":   27170slat\n",
       ":   0slon\n",
       ":   0elat\n",
       ":   0elon\n",
       ":   0len\n",
       ":   0wid\n",
       ":   0ns\n",
       ":   0sn\n",
       ":   0f1\n",
       ":   0f2\n",
       ":   0f3\n",
       ":   0f4\n",
       ":   0fc\n",
       ":   0\n",
       "\n"
      ],
      "text/plain": [
       "          om           yr           mo           dy         date         time \n",
       "           0            0            0            0            0            0 \n",
       "          tz datetime_utc           st          stf          mag          inj \n",
       "           0            0            0            0          756            0 \n",
       "         fat         loss         slat         slon         elat         elon \n",
       "           0        27170            0            0            0            0 \n",
       "         len          wid           ns           sn           f1           f2 \n",
       "           0            0            0            0            0            0 \n",
       "          f3           f4           fc \n",
       "           0            0            0 "
      ]
     },
     "metadata": {},
     "output_type": "display_data"
    }
   ],
   "source": [
    "sapply(tornado_data, function(x) sum(is.na(x)))"
   ]
  },
  {
   "cell_type": "markdown",
   "id": "d517d4f0-8b70-4ab6-871a-9e156452932e",
   "metadata": {},
   "source": [
    "We can see that there are no missing values, except for the feature `loss`, with 27,170 missing values, and 756 missing values for the feature `mag`. The feature `loss` refers to the financial loss of each tornado. For our regression problem, we did not deem this feature to be an important feature. Therefore, we decide to remove this column. \n",
    "\n",
    "Because there are not so many rows missing for the feature `mag`, we decide to filter those rows out. \n",
    "\n",
    "4. Then, we remove irrelevant or repetitive columns and then filter for missing values of the column `mag`, which stands for magnitude. Then, we change the feature names to make them more descriptive. We show the top 6 rows of our cleaned data. "
   ]
  },
  {
   "cell_type": "code",
   "execution_count": 4,
   "id": "e7b717a6-3315-4d14-90f9-b1277929e9a5",
   "metadata": {
    "vscode": {
     "languageId": "r"
    }
   },
   "outputs": [
    {
     "data": {
      "text/html": [
       "<table class=\"dataframe\">\n",
       "<caption>A data.frame: 6 × 17</caption>\n",
       "<thead>\n",
       "\t<tr><th></th><th scope=col>ID</th><th scope=col>year</th><th scope=col>month</th><th scope=col>day</th><th scope=col>time</th><th scope=col>datetime_utc</th><th scope=col>state</th><th scope=col>mag</th><th scope=col>injuries</th><th scope=col>fatalities</th><th scope=col>start_lat</th><th scope=col>start_lon</th><th scope=col>end_lat</th><th scope=col>end_lon</th><th scope=col>length</th><th scope=col>width</th><th scope=col>ns</th></tr>\n",
       "\t<tr><th></th><th scope=col>&lt;int&gt;</th><th scope=col>&lt;int&gt;</th><th scope=col>&lt;int&gt;</th><th scope=col>&lt;int&gt;</th><th scope=col>&lt;chr&gt;</th><th scope=col>&lt;chr&gt;</th><th scope=col>&lt;chr&gt;</th><th scope=col>&lt;int&gt;</th><th scope=col>&lt;int&gt;</th><th scope=col>&lt;int&gt;</th><th scope=col>&lt;dbl&gt;</th><th scope=col>&lt;dbl&gt;</th><th scope=col>&lt;dbl&gt;</th><th scope=col>&lt;dbl&gt;</th><th scope=col>&lt;dbl&gt;</th><th scope=col>&lt;int&gt;</th><th scope=col>&lt;int&gt;</th></tr>\n",
       "</thead>\n",
       "<tbody>\n",
       "\t<tr><th scope=row>1</th><td>192</td><td>1950</td><td>10</td><td> 1</td><td>21:00:00</td><td>1950-10-02T03:00:00Z</td><td>OK</td><td>1</td><td>0</td><td>0</td><td>36.73</td><td>-102.52</td><td>36.88</td><td>-102.30</td><td>15.8</td><td> 10</td><td>1</td></tr>\n",
       "\t<tr><th scope=row>2</th><td>193</td><td>1950</td><td>10</td><td> 9</td><td>02:15:00</td><td>1950-10-09T08:15:00Z</td><td>NC</td><td>3</td><td>3</td><td>0</td><td>34.17</td><td> -78.60</td><td> 0.00</td><td>   0.00</td><td> 2.0</td><td>880</td><td>1</td></tr>\n",
       "\t<tr><th scope=row>3</th><td>195</td><td>1950</td><td>11</td><td>20</td><td>02:20:00</td><td>1950-11-20T08:20:00Z</td><td>KY</td><td>2</td><td>0</td><td>0</td><td>37.37</td><td> -87.20</td><td> 0.00</td><td>   0.00</td><td> 0.1</td><td> 10</td><td>1</td></tr>\n",
       "\t<tr><th scope=row>4</th><td>196</td><td>1950</td><td>11</td><td>20</td><td>04:00:00</td><td>1950-11-20T10:00:00Z</td><td>KY</td><td>1</td><td>0</td><td>0</td><td>38.20</td><td> -84.50</td><td> 0.00</td><td>   0.00</td><td> 0.1</td><td> 10</td><td>1</td></tr>\n",
       "\t<tr><th scope=row>5</th><td>197</td><td>1950</td><td>11</td><td>20</td><td>07:30:00</td><td>1950-11-20T13:30:00Z</td><td>MS</td><td>1</td><td>3</td><td>0</td><td>32.42</td><td> -89.13</td><td> 0.00</td><td>   0.00</td><td> 2.0</td><td> 37</td><td>1</td></tr>\n",
       "\t<tr><th scope=row>6</th><td>194</td><td>1950</td><td>11</td><td> 4</td><td>17:00:00</td><td>1950-11-04T23:00:00Z</td><td>PA</td><td>3</td><td>1</td><td>0</td><td>40.20</td><td> -76.12</td><td>40.40</td><td> -75.93</td><td>15.9</td><td>100</td><td>1</td></tr>\n",
       "</tbody>\n",
       "</table>\n"
      ],
      "text/latex": [
       "A data.frame: 6 × 17\n",
       "\\begin{tabular}{r|lllllllllllllllll}\n",
       "  & ID & year & month & day & time & datetime\\_utc & state & mag & injuries & fatalities & start\\_lat & start\\_lon & end\\_lat & end\\_lon & length & width & ns\\\\\n",
       "  & <int> & <int> & <int> & <int> & <chr> & <chr> & <chr> & <int> & <int> & <int> & <dbl> & <dbl> & <dbl> & <dbl> & <dbl> & <int> & <int>\\\\\n",
       "\\hline\n",
       "\t1 & 192 & 1950 & 10 &  1 & 21:00:00 & 1950-10-02T03:00:00Z & OK & 1 & 0 & 0 & 36.73 & -102.52 & 36.88 & -102.30 & 15.8 &  10 & 1\\\\\n",
       "\t2 & 193 & 1950 & 10 &  9 & 02:15:00 & 1950-10-09T08:15:00Z & NC & 3 & 3 & 0 & 34.17 &  -78.60 &  0.00 &    0.00 &  2.0 & 880 & 1\\\\\n",
       "\t3 & 195 & 1950 & 11 & 20 & 02:20:00 & 1950-11-20T08:20:00Z & KY & 2 & 0 & 0 & 37.37 &  -87.20 &  0.00 &    0.00 &  0.1 &  10 & 1\\\\\n",
       "\t4 & 196 & 1950 & 11 & 20 & 04:00:00 & 1950-11-20T10:00:00Z & KY & 1 & 0 & 0 & 38.20 &  -84.50 &  0.00 &    0.00 &  0.1 &  10 & 1\\\\\n",
       "\t5 & 197 & 1950 & 11 & 20 & 07:30:00 & 1950-11-20T13:30:00Z & MS & 1 & 3 & 0 & 32.42 &  -89.13 &  0.00 &    0.00 &  2.0 &  37 & 1\\\\\n",
       "\t6 & 194 & 1950 & 11 &  4 & 17:00:00 & 1950-11-04T23:00:00Z & PA & 3 & 1 & 0 & 40.20 &  -76.12 & 40.40 &  -75.93 & 15.9 & 100 & 1\\\\\n",
       "\\end{tabular}\n"
      ],
      "text/markdown": [
       "\n",
       "A data.frame: 6 × 17\n",
       "\n",
       "| <!--/--> | ID &lt;int&gt; | year &lt;int&gt; | month &lt;int&gt; | day &lt;int&gt; | time &lt;chr&gt; | datetime_utc &lt;chr&gt; | state &lt;chr&gt; | mag &lt;int&gt; | injuries &lt;int&gt; | fatalities &lt;int&gt; | start_lat &lt;dbl&gt; | start_lon &lt;dbl&gt; | end_lat &lt;dbl&gt; | end_lon &lt;dbl&gt; | length &lt;dbl&gt; | width &lt;int&gt; | ns &lt;int&gt; |\n",
       "|---|---|---|---|---|---|---|---|---|---|---|---|---|---|---|---|---|---|\n",
       "| 1 | 192 | 1950 | 10 |  1 | 21:00:00 | 1950-10-02T03:00:00Z | OK | 1 | 0 | 0 | 36.73 | -102.52 | 36.88 | -102.30 | 15.8 |  10 | 1 |\n",
       "| 2 | 193 | 1950 | 10 |  9 | 02:15:00 | 1950-10-09T08:15:00Z | NC | 3 | 3 | 0 | 34.17 |  -78.60 |  0.00 |    0.00 |  2.0 | 880 | 1 |\n",
       "| 3 | 195 | 1950 | 11 | 20 | 02:20:00 | 1950-11-20T08:20:00Z | KY | 2 | 0 | 0 | 37.37 |  -87.20 |  0.00 |    0.00 |  0.1 |  10 | 1 |\n",
       "| 4 | 196 | 1950 | 11 | 20 | 04:00:00 | 1950-11-20T10:00:00Z | KY | 1 | 0 | 0 | 38.20 |  -84.50 |  0.00 |    0.00 |  0.1 |  10 | 1 |\n",
       "| 5 | 197 | 1950 | 11 | 20 | 07:30:00 | 1950-11-20T13:30:00Z | MS | 1 | 3 | 0 | 32.42 |  -89.13 |  0.00 |    0.00 |  2.0 |  37 | 1 |\n",
       "| 6 | 194 | 1950 | 11 |  4 | 17:00:00 | 1950-11-04T23:00:00Z | PA | 3 | 1 | 0 | 40.20 |  -76.12 | 40.40 |  -75.93 | 15.9 | 100 | 1 |\n",
       "\n"
      ],
      "text/plain": [
       "  ID  year month day time     datetime_utc         state mag injuries\n",
       "1 192 1950 10     1  21:00:00 1950-10-02T03:00:00Z OK    1   0       \n",
       "2 193 1950 10     9  02:15:00 1950-10-09T08:15:00Z NC    3   3       \n",
       "3 195 1950 11    20  02:20:00 1950-11-20T08:20:00Z KY    2   0       \n",
       "4 196 1950 11    20  04:00:00 1950-11-20T10:00:00Z KY    1   0       \n",
       "5 197 1950 11    20  07:30:00 1950-11-20T13:30:00Z MS    1   3       \n",
       "6 194 1950 11     4  17:00:00 1950-11-04T23:00:00Z PA    3   1       \n",
       "  fatalities start_lat start_lon end_lat end_lon length width ns\n",
       "1 0          36.73     -102.52   36.88   -102.30 15.8    10   1 \n",
       "2 0          34.17      -78.60    0.00      0.00  2.0   880   1 \n",
       "3 0          37.37      -87.20    0.00      0.00  0.1    10   1 \n",
       "4 0          38.20      -84.50    0.00      0.00  0.1    10   1 \n",
       "5 0          32.42      -89.13    0.00      0.00  2.0    37   1 \n",
       "6 0          40.20      -76.12   40.40    -75.93 15.9   100   1 "
      ]
     },
     "metadata": {},
     "output_type": "display_data"
    }
   ],
   "source": [
    "# Wrangle and clean data\n",
    "\n",
    "# Remove irrelevant or repetitive columns, and filter for NA in magnitude\n",
    "df <- tornado_data %>%\n",
    "    select(-date, -tz, -stf, -sn, -f1, -f2, -f3, -f4, -fc, -loss) %>%\n",
    "    filter(!is.na(mag)) \n",
    "\n",
    "# Change feature names to be more descriptive\n",
    "names(df) <- c('ID','year','month','day','time','datetime_utc','state','mag','injuries',\n",
    "               'fatalities','start_lat','start_lon','end_lat','end_lon','length','width','ns')\n",
    "\n",
    "head(df)"
   ]
  },
  {
   "cell_type": "code",
   "execution_count": 5,
   "id": "a7ca3677-25c2-4bbc-860d-f11748338899",
   "metadata": {
    "vscode": {
     "languageId": "r"
    }
   },
   "outputs": [],
   "source": [
    "# This is to export cleaned data frame to new csv file\n",
    "#write_csv(df, \"C:\\\\Users\\\\Erika\\\\DSCI-310-Group-1-Predict-Casualties-From-Tornado-Data\\\\data\\\\processed\\\\cleaned_tornado_data.csv\")"
   ]
  },
  {
   "cell_type": "markdown",
   "id": "4e5b88d2-2c21-42f9-8511-d4c19e1fb1ba",
   "metadata": {},
   "source": [
    "## EDA: Descriptive statistics and visualizations"
   ]
  },
  {
   "cell_type": "markdown",
   "id": "fff8ab6d-285f-4fda-9e96-f5c7e309b446",
   "metadata": {},
   "source": [
    "5. Next, we create a summary table of features that could be useful to use in our regression model. "
   ]
  },
  {
   "cell_type": "code",
   "execution_count": 6,
   "id": "b83eb9de-0b51-4b2d-afbe-c91f9cee1c27",
   "metadata": {
    "vscode": {
     "languageId": "r"
    }
   },
   "outputs": [
    {
     "data": {
      "text/html": [
       "<table class=\"dataframe\">\n",
       "<caption>A psych: 10 × 8</caption>\n",
       "<thead>\n",
       "\t<tr><th></th><th scope=col>vars</th><th scope=col>n</th><th scope=col>mean</th><th scope=col>sd</th><th scope=col>min</th><th scope=col>max</th><th scope=col>range</th><th scope=col>se</th></tr>\n",
       "\t<tr><th></th><th scope=col>&lt;int&gt;</th><th scope=col>&lt;dbl&gt;</th><th scope=col>&lt;dbl&gt;</th><th scope=col>&lt;dbl&gt;</th><th scope=col>&lt;dbl&gt;</th><th scope=col>&lt;dbl&gt;</th><th scope=col>&lt;dbl&gt;</th><th scope=col>&lt;dbl&gt;</th></tr>\n",
       "</thead>\n",
       "<tbody>\n",
       "\t<tr><th scope=row>mag</th><td> 1</td><td>67937</td><td>  0.77872146</td><td>  0.89578979</td><td>   0.0000</td><td>   5.0000</td><td>   5.0000</td><td>0.0034367894</td></tr>\n",
       "\t<tr><th scope=row>injuries</th><td> 2</td><td>67937</td><td>  1.43447606</td><td> 18.21464265</td><td>   0.0000</td><td>1740.0000</td><td>1740.0000</td><td>0.0698823454</td></tr>\n",
       "\t<tr><th scope=row>fatalities</th><td> 3</td><td>67937</td><td>  0.09030425</td><td>  1.48025841</td><td>   0.0000</td><td> 158.0000</td><td> 158.0000</td><td>0.0056791633</td></tr>\n",
       "\t<tr><th scope=row>start_lat</th><td> 4</td><td>67937</td><td> 37.12084145</td><td>  5.10796577</td><td>  17.7212</td><td>  61.0200</td><td>  43.2988</td><td>0.0195972348</td></tr>\n",
       "\t<tr><th scope=row>start_lon</th><td> 5</td><td>67937</td><td>-92.70567031</td><td>  8.67919628</td><td>-163.5300</td><td> -64.7151</td><td>  98.8149</td><td>0.0332986271</td></tr>\n",
       "\t<tr><th scope=row>end_lat</th><td> 6</td><td>67937</td><td> 22.79438471</td><td> 18.55826645</td><td>   0.0000</td><td>  61.0200</td><td>  61.0200</td><td>0.0712006934</td></tr>\n",
       "\t<tr><th scope=row>end_lon</th><td> 7</td><td>67937</td><td>-56.38062159</td><td> 45.38037316</td><td>-163.5300</td><td>   0.0000</td><td> 163.5300</td><td>0.1741064579</td></tr>\n",
       "\t<tr><th scope=row>length</th><td> 8</td><td>67937</td><td>  3.51464195</td><td>  8.28672352</td><td>   0.0000</td><td> 234.7000</td><td> 234.7000</td><td>0.0317928651</td></tr>\n",
       "\t<tr><th scope=row>width</th><td> 9</td><td>67937</td><td>108.42309787</td><td>207.81143767</td><td>   0.0000</td><td>4576.0000</td><td>4576.0000</td><td>0.7972899033</td></tr>\n",
       "\t<tr><th scope=row>ns</th><td>10</td><td>67937</td><td>  1.00883171</td><td>  0.09543121</td><td>   1.0000</td><td>   3.0000</td><td>   2.0000</td><td>0.0003661316</td></tr>\n",
       "</tbody>\n",
       "</table>\n"
      ],
      "text/latex": [
       "A psych: 10 × 8\n",
       "\\begin{tabular}{r|llllllll}\n",
       "  & vars & n & mean & sd & min & max & range & se\\\\\n",
       "  & <int> & <dbl> & <dbl> & <dbl> & <dbl> & <dbl> & <dbl> & <dbl>\\\\\n",
       "\\hline\n",
       "\tmag &  1 & 67937 &   0.77872146 &   0.89578979 &    0.0000 &    5.0000 &    5.0000 & 0.0034367894\\\\\n",
       "\tinjuries &  2 & 67937 &   1.43447606 &  18.21464265 &    0.0000 & 1740.0000 & 1740.0000 & 0.0698823454\\\\\n",
       "\tfatalities &  3 & 67937 &   0.09030425 &   1.48025841 &    0.0000 &  158.0000 &  158.0000 & 0.0056791633\\\\\n",
       "\tstart\\_lat &  4 & 67937 &  37.12084145 &   5.10796577 &   17.7212 &   61.0200 &   43.2988 & 0.0195972348\\\\\n",
       "\tstart\\_lon &  5 & 67937 & -92.70567031 &   8.67919628 & -163.5300 &  -64.7151 &   98.8149 & 0.0332986271\\\\\n",
       "\tend\\_lat &  6 & 67937 &  22.79438471 &  18.55826645 &    0.0000 &   61.0200 &   61.0200 & 0.0712006934\\\\\n",
       "\tend\\_lon &  7 & 67937 & -56.38062159 &  45.38037316 & -163.5300 &    0.0000 &  163.5300 & 0.1741064579\\\\\n",
       "\tlength &  8 & 67937 &   3.51464195 &   8.28672352 &    0.0000 &  234.7000 &  234.7000 & 0.0317928651\\\\\n",
       "\twidth &  9 & 67937 & 108.42309787 & 207.81143767 &    0.0000 & 4576.0000 & 4576.0000 & 0.7972899033\\\\\n",
       "\tns & 10 & 67937 &   1.00883171 &   0.09543121 &    1.0000 &    3.0000 &    2.0000 & 0.0003661316\\\\\n",
       "\\end{tabular}\n"
      ],
      "text/markdown": [
       "\n",
       "A psych: 10 × 8\n",
       "\n",
       "| <!--/--> | vars &lt;int&gt; | n &lt;dbl&gt; | mean &lt;dbl&gt; | sd &lt;dbl&gt; | min &lt;dbl&gt; | max &lt;dbl&gt; | range &lt;dbl&gt; | se &lt;dbl&gt; |\n",
       "|---|---|---|---|---|---|---|---|---|\n",
       "| mag |  1 | 67937 |   0.77872146 |   0.89578979 |    0.0000 |    5.0000 |    5.0000 | 0.0034367894 |\n",
       "| injuries |  2 | 67937 |   1.43447606 |  18.21464265 |    0.0000 | 1740.0000 | 1740.0000 | 0.0698823454 |\n",
       "| fatalities |  3 | 67937 |   0.09030425 |   1.48025841 |    0.0000 |  158.0000 |  158.0000 | 0.0056791633 |\n",
       "| start_lat |  4 | 67937 |  37.12084145 |   5.10796577 |   17.7212 |   61.0200 |   43.2988 | 0.0195972348 |\n",
       "| start_lon |  5 | 67937 | -92.70567031 |   8.67919628 | -163.5300 |  -64.7151 |   98.8149 | 0.0332986271 |\n",
       "| end_lat |  6 | 67937 |  22.79438471 |  18.55826645 |    0.0000 |   61.0200 |   61.0200 | 0.0712006934 |\n",
       "| end_lon |  7 | 67937 | -56.38062159 |  45.38037316 | -163.5300 |    0.0000 |  163.5300 | 0.1741064579 |\n",
       "| length |  8 | 67937 |   3.51464195 |   8.28672352 |    0.0000 |  234.7000 |  234.7000 | 0.0317928651 |\n",
       "| width |  9 | 67937 | 108.42309787 | 207.81143767 |    0.0000 | 4576.0000 | 4576.0000 | 0.7972899033 |\n",
       "| ns | 10 | 67937 |   1.00883171 |   0.09543121 |    1.0000 |    3.0000 |    2.0000 | 0.0003661316 |\n",
       "\n"
      ],
      "text/plain": [
       "           vars n     mean         sd           min       max       range    \n",
       "mag         1   67937   0.77872146   0.89578979    0.0000    5.0000    5.0000\n",
       "injuries    2   67937   1.43447606  18.21464265    0.0000 1740.0000 1740.0000\n",
       "fatalities  3   67937   0.09030425   1.48025841    0.0000  158.0000  158.0000\n",
       "start_lat   4   67937  37.12084145   5.10796577   17.7212   61.0200   43.2988\n",
       "start_lon   5   67937 -92.70567031   8.67919628 -163.5300  -64.7151   98.8149\n",
       "end_lat     6   67937  22.79438471  18.55826645    0.0000   61.0200   61.0200\n",
       "end_lon     7   67937 -56.38062159  45.38037316 -163.5300    0.0000  163.5300\n",
       "length      8   67937   3.51464195   8.28672352    0.0000  234.7000  234.7000\n",
       "width       9   67937 108.42309787 207.81143767    0.0000 4576.0000 4576.0000\n",
       "ns         10   67937   1.00883171   0.09543121    1.0000    3.0000    2.0000\n",
       "           se          \n",
       "mag        0.0034367894\n",
       "injuries   0.0698823454\n",
       "fatalities 0.0056791633\n",
       "start_lat  0.0195972348\n",
       "start_lon  0.0332986271\n",
       "end_lat    0.0712006934\n",
       "end_lon    0.1741064579\n",
       "length     0.0317928651\n",
       "width      0.7972899033\n",
       "ns         0.0003661316"
      ]
     },
     "metadata": {},
     "output_type": "display_data"
    }
   ],
   "source": [
    "describe(df[, c('mag', 'injuries', 'fatalities', 'start_lat', 'start_lon', 'end_lat', 'end_lon', \n",
    "                'length', 'width', 'ns')], fast = TRUE)"
   ]
  },
  {
   "cell_type": "markdown",
   "id": "292188e1-a02d-4523-be25-dce229002300",
   "metadata": {},
   "source": [
    "6. We create a correlation matrix to view the correlations between features related to `injuries` and `fatalities`. "
   ]
  },
  {
   "cell_type": "code",
   "execution_count": 1,
   "id": "cfb89ea0-8857-458e-812f-c17e5805e43e",
   "metadata": {
    "vscode": {
     "languageId": "r"
    }
   },
   "outputs": [
    {
     "ename": "ERROR",
     "evalue": "Error in df %>% ggpairs(columns = c(\"mag\", \"fatalities\", \"length\", \"width\", : could not find function \"%>%\"\n",
     "output_type": "error",
     "traceback": [
      "Error in df %>% ggpairs(columns = c(\"mag\", \"fatalities\", \"length\", \"width\", : could not find function \"%>%\"\nTraceback:\n"
     ]
    }
   ],
   "source": [
    "options(repr.plot.width = 15, repr.plot.height = 15)\n",
    "\n",
    "correlations_plot <- df %>%\n",
    "    ggpairs(\n",
    "        columns = c(\"mag\", \"fatalities\", \"length\", \"width\", \"start_lat\", \"start_lon\", \n",
    "                    \"end_lat\", \"end_lon\"), \n",
    "        lower = list(\n",
    "            continuous = \"smooth\", \n",
    "            combo = wrap(\"facethist\", binwidth = 2)),\n",
    "            title = \"Correlations plot of important numerical features and target\") +\n",
    "    theme(plot.title = element_text(size = 22, hjust = 0.5))\n",
    "correlations_plot"
   ]
  },
  {
   "cell_type": "markdown",
   "id": "c28c15e9-8b6d-4d3e-b6d2-2a5de9ea6bea",
   "metadata": {},
   "source": [
    "From the correlation matrix, we observe that there are some small sized correlations between `fatalities` and other continuous features. For example, there is a correlation of `0.239` between `length` and `fatalities`. \n",
    "\n",
    "There are also correlations between features that are not the target. For example, there is medium sized correlation of `0.444` between `length` and `mag` and a correlation of `0.417` between `width` and `mag`.\n",
    "\n",
    "These small to medium correlations may suggest that these features could be useful in predicting `fatalities`. \n",
    "\n",
    "The correlation between `fatalities` and `injuries` is also pretty high with a correlation of `0.765`, which is sort of expected as these targets are both related to casualties. "
   ]
  },
  {
   "cell_type": "markdown",
   "id": "3739a60d-b058-402f-aa53-c434b7e4bcac",
   "metadata": {},
   "source": [
    "## Model selection and analysis"
   ]
  },
  {
   "cell_type": "markdown",
   "id": "3ad1fb80-da4a-45bb-9702-f90b78a5b56f",
   "metadata": {},
   "source": [
    "7. We split our data into two sets: `train_df` and `test_df`. `train_df` consists of 75% of our original data set and is used to train our regression model. The remaining 25% of our original data is `test_df`, which we use later to test the accuracy of our model at prediction. "
   ]
  },
  {
   "cell_type": "code",
   "execution_count": 8,
   "id": "503402e8-391e-4492-a7fc-06d4cfdeb8e8",
   "metadata": {
    "vscode": {
     "languageId": "r"
    }
   },
   "outputs": [],
   "source": [
    "set.seed(2000)\n",
    "\n",
    "data_split <- initial_split(df, prop = 0.75, strata = fatalities)\n",
    "train_df <- training(data_split)\n",
    "test_df <- testing(data_split)"
   ]
  },
  {
   "cell_type": "markdown",
   "id": "5465946d-fa30-48f4-abfc-a0b9510e1b18",
   "metadata": {},
   "source": [
    "8. As mentioned previously, our group has decided that we will use a linear regression model to predict tornado casualties. We will be using the variables `width` and `length` as our predictors. The former is a measure of the width of a tornado, while the latter is a measure of length. The units of measurements are yards and miles, respectively.\n",
    "\n",
    "   Now that we have our training data `train_df`, we can fit our linear regression model. We will first specify our model, and then proceed to fit our model and obtain the regression coefficients."
   ]
  },
  {
   "cell_type": "code",
   "execution_count": 9,
   "id": "3bbd69a3-f477-4ffc-8c06-cff5ae8a8e51",
   "metadata": {},
   "outputs": [
    {
     "data": {
      "text/plain": [
       "== Workflow [trained] ====================================================================================================================================================\n",
       "\u001b[3mPreprocessor:\u001b[23m Recipe\n",
       "\u001b[3mModel:\u001b[23m linear_reg()\n",
       "\n",
       "-- Preprocessor ----------------------------------------------------------------------------------------------------------------------------------------------------------\n",
       "0 Recipe Steps\n",
       "\n",
       "-- Model -----------------------------------------------------------------------------------------------------------------------------------------------------------------\n",
       "\n",
       "Call:\n",
       "stats::lm(formula = ..y ~ ., data = data)\n",
       "\n",
       "Coefficients:\n",
       "(Intercept)       length        width  \n",
       " -0.1183680    0.0367960    0.0007337  \n"
      ]
     },
     "metadata": {},
     "output_type": "display_data"
    }
   ],
   "source": [
    "# specify prediction model\n",
    "lm_spec <- linear_reg() |>\n",
    "  set_engine(\"lm\") |>\n",
    "  set_mode(\"regression\")\n",
    "\n",
    "# specify recipe\n",
    "lm_recipe <- recipe(fatalities ~ length + width, data = df)\n",
    "\n",
    "# fit the model based on the recipe, specification and training data\n",
    "lm_fit <- workflow() |>\n",
    "  add_recipe(lm_recipe) |>\n",
    "  add_model(lm_spec) |>\n",
    "  fit(data = train_df)\n",
    "\n",
    "lm_fit"
   ]
  },
  {
   "cell_type": "markdown",
   "id": "9e750e49-0683-4114-87da-876dbb630c0f",
   "metadata": {},
   "source": [
    "9. Now that we have our model, we can predict on the testing data `test_df` to assess how well it does."
   ]
  },
  {
   "cell_type": "code",
   "execution_count": 10,
   "id": "cf8d950c-c38c-4f02-a7b6-9cf6b207e09c",
   "metadata": {},
   "outputs": [
    {
     "data": {
      "text/html": [
       "<table class=\"dataframe\">\n",
       "<caption>A tibble: 3 × 3</caption>\n",
       "<thead>\n",
       "\t<tr><th scope=col>.metric</th><th scope=col>.estimator</th><th scope=col>.estimate</th></tr>\n",
       "\t<tr><th scope=col>&lt;chr&gt;</th><th scope=col>&lt;chr&gt;</th><th scope=col>&lt;dbl&gt;</th></tr>\n",
       "</thead>\n",
       "<tbody>\n",
       "\t<tr><td>rmse</td><td>standard</td><td>1.00567700</td></tr>\n",
       "\t<tr><td>rsq </td><td>standard</td><td>0.08983574</td></tr>\n",
       "\t<tr><td>mae </td><td>standard</td><td>0.22985357</td></tr>\n",
       "</tbody>\n",
       "</table>\n"
      ],
      "text/latex": [
       "A tibble: 3 × 3\n",
       "\\begin{tabular}{lll}\n",
       " .metric & .estimator & .estimate\\\\\n",
       " <chr> & <chr> & <dbl>\\\\\n",
       "\\hline\n",
       "\t rmse & standard & 1.00567700\\\\\n",
       "\t rsq  & standard & 0.08983574\\\\\n",
       "\t mae  & standard & 0.22985357\\\\\n",
       "\\end{tabular}\n"
      ],
      "text/markdown": [
       "\n",
       "A tibble: 3 × 3\n",
       "\n",
       "| .metric &lt;chr&gt; | .estimator &lt;chr&gt; | .estimate &lt;dbl&gt; |\n",
       "|---|---|---|\n",
       "| rmse | standard | 1.00567700 |\n",
       "| rsq  | standard | 0.08983574 |\n",
       "| mae  | standard | 0.22985357 |\n",
       "\n"
      ],
      "text/plain": [
       "  .metric .estimator .estimate \n",
       "1 rmse    standard   1.00567700\n",
       "2 rsq     standard   0.08983574\n",
       "3 mae     standard   0.22985357"
      ]
     },
     "metadata": {},
     "output_type": "display_data"
    }
   ],
   "source": [
    "# Use lm_fit to predict on test_df and output RMSPE to assess model's test error\n",
    "lm_test_results <- lm_fit |>\n",
    "  predict(test_df) |>\n",
    "  bind_cols(test_df) |>\n",
    "  metrics(truth = fatalities, estimate = .pred)\n",
    "\n",
    "lm_test_results"
   ]
  },
  {
   "cell_type": "markdown",
   "id": "93094363-727f-420a-a8a8-0dd246f900a3",
   "metadata": {},
   "source": [
    "We can visualize our linear regression model to get a better idea of how well it performs."
   ]
  },
  {
   "cell_type": "code",
   "execution_count": 11,
   "id": "b7d735ba-323e-41b1-b048-b4f5e53c0123",
   "metadata": {},
   "outputs": [],
   "source": [
    "####################### some scaffolding i pasted from DSCI 100 textbook to help :)\n",
    "\n",
    "\n",
    "#sqft_prediction_grid <- tibble(\n",
    "#    sqft = c(\n",
    "#        sacramento |> select(sqft) |> min(),\n",
    "#        sacramento |> select(sqft) |> max()\n",
    "#    )\n",
    "#)\n",
    "\n",
    "#sacr_preds <- lm_fit |>\n",
    "#  predict(sqft_prediction_grid) |>\n",
    "#  bind_cols(sqft_prediction_grid)\n",
    "\n",
    "#lm_plot_final <- ggplot(sacramento, aes(x = sqft, y = price)) +\n",
    "#  geom_point(alpha = 0.4) +\n",
    "#  geom_line(data = sacr_preds,\n",
    "#            mapping = aes(x = sqft, y = .pred),\n",
    "#            color = \"steelblue\",\n",
    "#            linewidth = 1) +\n",
    "#  xlab(\"House size (square feet)\") +\n",
    "#  ylab(\"Price (USD)\") +\n",
    "#  scale_y_continuous(labels = dollar_format()) +\n",
    "#  theme(text = element_text(size = 12))\n",
    "\n",
    "#lm_plot_final"
   ]
  },
  {
   "cell_type": "markdown",
   "id": "6fe210b2-6603-47d4-a4f9-c8b0347094a4",
   "metadata": {},
   "source": [
    "# Discussion"
   ]
  },
  {
   "cell_type": "markdown",
   "id": "a72c5b4a-c816-41b6-8b1c-cecc589acb61",
   "metadata": {},
   "source": []
  },
  {
   "cell_type": "markdown",
   "id": "2f7aca0f-e4f6-43f1-87fb-dd324f85099f",
   "metadata": {},
   "source": [
    "# References"
   ]
  },
  {
   "cell_type": "markdown",
   "id": "c2c97b1a-977c-45b0-80b5-caca462680b4",
   "metadata": {},
   "source": []
  }
 ],
 "metadata": {
  "kernelspec": {
   "display_name": "R",
   "language": "R",
   "name": "ir"
  },
  "language_info": {
   "codemirror_mode": "r",
   "file_extension": ".r",
   "mimetype": "text/x-r-source",
   "name": "R",
   "pygments_lexer": "r",
   "version": "4.3.2"
  }
 },
 "nbformat": 4,
 "nbformat_minor": 5
}

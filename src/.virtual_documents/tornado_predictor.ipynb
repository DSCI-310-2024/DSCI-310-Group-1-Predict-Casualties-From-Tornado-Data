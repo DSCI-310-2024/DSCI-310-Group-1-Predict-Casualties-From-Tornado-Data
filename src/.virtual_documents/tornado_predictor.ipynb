


























library(repr)
library(tidyverse)
library(tidymodels)
library(readr)
library(psych)
library(GGally)
# #library(renv)





# Load data
URL <- "https://raw.githubusercontent.com/rfordatascience/tidytuesday/a9e277dd77331e9091e151bb5adb584742064b3e/data/2023/2023-05-16/tornados.csv"
tornado_data <- read.csv(URL)

head(tornado_data)





sapply(tornado_data, function(x) sum(is.na(x)))





# Wrangle and clean data

# Remove irrelevant or repetitive columns, and filter for NA in magnitude
df <- tornado_data %>%
    select(-date, -tz, -stf, -sn, -f1, -f2, -f3, -f4, -fc, -loss) %>%
    filter(!is.na(mag)) 

# Change feature names to be more descriptive
names(df) <- c('ID','year','month','day','time','datetime_utc','state','mag','injuries',
               'fatalities','start_lat','start_lon','end_lat','end_lon','length','width','ns')

head(df)


# This is to export cleaned data frame to new csv file
#write_csv(df, "C:\\Users\\Erika\\DSCI-310-Group-1-Predict-Casualties-From-Tornado-Data\\data\\processed\\cleaned_tornado_data.csv")








describe(df[, c('mag', 'injuries', 'fatalities', 'start_lat', 'start_lon', 'end_lat', 'end_lon', 
                'length', 'width', 'ns')], fast = TRUE)





options(repr.plot.width = 15, repr.plot.height = 15)

correlations_plot <- df %>%
    ggpairs(
        columns = c("mag", "injuries", "fatalities", "length", "width", "start_lat", "start_lon", 
                    "end_lat", "end_lon"), 
        lower = list(
            continuous = "smooth", 
            combo = wrap("facethist", binwidth = 2)),
            title = "Correlations plot of important numerical features and target") +
    theme(plot.title = element_text(size = 22, hjust = 0.5))
correlations_plot











set.seed(2000)

data_split <- initial_split(df, prop = 0.75, strata = fatalities)
train_df <- training(data_split)
test_df <- testing(data_split)





# specify prediction model
lm_spec <- linear_reg() |>
  set_engine("lm") |>
  set_mode("regression")

# specify recipe
lm_recipe <- recipe(fatalities ~ length + width, data = df)

# fit the model based on the recipe, specification and training data
lm_fit <- workflow() |>
  add_recipe(lm_recipe) |>
  add_model(lm_spec) |>
  fit(data = train_df)

lm_fit





# Use lm_fit to predict on test_df and output RMSPE to assess model's test error
lm_test_results <- lm_fit |>
  predict(test_df) |>
  bind_cols(test_df) |>
  metrics(truth = fatalities, estimate = .pred)

lm_test_results





####################### some scaffolding i pasted from DSCI 100 textbook to help :)

#sqft_prediction_grid <- tibble(
#    sqft = c(
#        sacramento |> select(sqft) |> min(),
#        sacramento |> select(sqft) |> max()
#    )
#)

#sacr_preds <- lm_fit |>
#  predict(sqft_prediction_grid) |>
#  bind_cols(sqft_prediction_grid)

#lm_plot_final <- ggplot(sacramento, aes(x = sqft, y = price)) +
#  geom_point(alpha = 0.4) +
#  geom_line(data = sacr_preds,
#            mapping = aes(x = sqft, y = .pred),
#            color = "steelblue",
#            linewidth = 1) +
#  xlab("House size (square feet)") +
#  ylab("Price (USD)") +
#  scale_y_continuous(labels = dollar_format()) +
#  theme(text = element_text(size = 12))

#lm_plot_final


# options(repr.plot.width = 12, repr.plot.height = 6)
# aqi_predictions <- aqi_fit |>
#     predict(aqd_test) |>
#     bind_cols(aqd_test)
# model_viz <- ggplot(aqi_predictions, aes(x = .pred, y = aqi))+
#     geom_point(alpha = 0.6)+
#     geom_abline(intercept = 0, slope = 1, color = "red", linetype = "dashed", linewidth = 2)+
#     labs(title = "Actual vs Predicted AQI values (Figure 7)", x = "Predicted AQI", y = "Observed AQI")+
#     theme(text = element_text(size = 20))
# model_viz

fatal_rsmpe <- lm_test_results |>
    filter(.metric == "rmse") |>
    select(.estimate) |>
    pull()

fatal_predictions <- lm_fit |>
    predict(test_df) |>
    bind_cols(test_df)

options(repr.plot.width = 12, repr.plot.height = 6)

## Note: Red line represents where points would be plotted if the model was 100% accurate
fatal_model_viz <- ggplot(fatal_predictions, aes(x = fatalities, y = .pred)) +
    geom_point(alpha = 0.6) +
    # geom_line(data = fatal_predictions,
    #        mapping = aes(x = fatalities, y = .pred),
    #        color = "steelblue",
    #        linewidth = 1) +
    geom_abline(intercept = 0, slope = 1, color = "red", linetype = "dashed", linewidth = 2)+
    xlab("Actual Fatalities Count") +
    ylab("Predicted Fatalities Count") +
    ggtitle("Actual Number of Fatalities vs Predicted Number of Fatalities") +
    theme(text = element_text(size = 12))

fatal_model_viz

## Note: Blue line represents predicted values based on our regression model
fatal_widths_plot <- ggplot(test_df, aes(x = width, y = fatalities)) +
     geom_point(alpha = 0.4) +
     geom_line(data = fatal_predictions,
           mapping = aes(x = width, y = .pred),
           color = "steelblue",
           linewidth = 1) +
     xlab("Tornado Width (Yards)") +
     ylab("Fatalities") +
     ggtitle("Fatalities vs Width Plot") +
     theme(text = element_text(size = 12))

fatal_widths_plot

## Note: Blue line represents predicted values based on our regression model
fatal_length_plot <- ggplot(test_df, aes(x = length, y = fatalities)) +
     geom_point(alpha = 0.4) +
     geom_line(data = fatal_predictions,
           mapping = aes(x = length, y = .pred),
           color = "steelblue",
           linewidth = 1) +
     xlab("Tornado Length (Miles)") +
     ylab("Fatalities") +
     ggtitle("Fatalities vs Length Plot") +
     theme(text = element_text(size = 12))

fatal_length_plot
















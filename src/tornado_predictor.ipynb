{
 "cells": [
  {
   "cell_type": "markdown",
   "id": "903e04f9-d3d0-4a63-94f7-e1ad7e07cdfb",
   "metadata": {},
   "source": [
    "# Predicting Casualties from Tornado Data"
   ]
  },
  {
   "cell_type": "markdown",
   "id": "6d37b603-d6c6-4569-91f1-6d49d8f6ebf2",
   "metadata": {},
   "source": [
    "## Authors: Erika Delorme, Marcela Flaherty, Riddha Tuladhar, Edwin Yeung"
   ]
  },
  {
   "cell_type": "code",
   "execution_count": 4,
   "id": "6486f35c-da96-4c22-84c0-b89e9556da26",
   "metadata": {},
   "outputs": [],
   "source": [
    "library(repr)\n",
    "library(tidyverse)"
   ]
  },
  {
   "cell_type": "markdown",
   "id": "748f8ea1-b5cf-49c4-a891-38058a57a179",
   "metadata": {},
   "source": [
    "# Summary"
   ]
  },
  {
   "cell_type": "markdown",
   "id": "4187fbdd-5bd1-444e-8a9c-d2f69a2dd82d",
   "metadata": {},
   "source": []
  },
  {
   "cell_type": "markdown",
   "id": "f9e56574-483f-4d29-b4aa-44f8a5168a47",
   "metadata": {},
   "source": [
    "# Introduction"
   ]
  },
  {
   "cell_type": "markdown",
   "id": "d891fb3c-693f-4068-aeed-8be2e173e1cf",
   "metadata": {},
   "source": []
  },
  {
   "cell_type": "markdown",
   "id": "56576fe4-a54a-4154-a16d-6a4a799219f8",
   "metadata": {},
   "source": [
    "# Methods & Results"
   ]
  },
  {
   "cell_type": "code",
   "execution_count": 43,
   "id": "05baf8a0-fcfc-4fbb-bd3d-b8bed01b1f4f",
   "metadata": {},
   "outputs": [
    {
     "data": {
      "text/html": [
       "<table class=\"dataframe\">\n",
       "<caption>A data.frame: 6 × 27</caption>\n",
       "<thead>\n",
       "\t<tr><th></th><th scope=col>om</th><th scope=col>yr</th><th scope=col>mo</th><th scope=col>dy</th><th scope=col>date</th><th scope=col>time</th><th scope=col>tz</th><th scope=col>datetime_utc</th><th scope=col>st</th><th scope=col>stf</th><th scope=col>⋯</th><th scope=col>elon</th><th scope=col>len</th><th scope=col>wid</th><th scope=col>ns</th><th scope=col>sn</th><th scope=col>f1</th><th scope=col>f2</th><th scope=col>f3</th><th scope=col>f4</th><th scope=col>fc</th></tr>\n",
       "\t<tr><th></th><th scope=col>&lt;int&gt;</th><th scope=col>&lt;int&gt;</th><th scope=col>&lt;int&gt;</th><th scope=col>&lt;int&gt;</th><th scope=col>&lt;chr&gt;</th><th scope=col>&lt;chr&gt;</th><th scope=col>&lt;chr&gt;</th><th scope=col>&lt;chr&gt;</th><th scope=col>&lt;chr&gt;</th><th scope=col>&lt;int&gt;</th><th scope=col>⋯</th><th scope=col>&lt;dbl&gt;</th><th scope=col>&lt;dbl&gt;</th><th scope=col>&lt;int&gt;</th><th scope=col>&lt;int&gt;</th><th scope=col>&lt;int&gt;</th><th scope=col>&lt;int&gt;</th><th scope=col>&lt;int&gt;</th><th scope=col>&lt;int&gt;</th><th scope=col>&lt;int&gt;</th><th scope=col>&lt;lgl&gt;</th></tr>\n",
       "</thead>\n",
       "<tbody>\n",
       "\t<tr><th scope=row>1</th><td>192</td><td>1950</td><td>10</td><td> 1</td><td>1950-10-01</td><td>21:00:00</td><td>America/Chicago</td><td>1950-10-02T03:00:00Z</td><td>OK</td><td>40</td><td>⋯</td><td>-102.30</td><td>15.8</td><td> 10</td><td>1</td><td>1</td><td> 25</td><td> 0</td><td>0</td><td>0</td><td>FALSE</td></tr>\n",
       "\t<tr><th scope=row>2</th><td>193</td><td>1950</td><td>10</td><td> 9</td><td>1950-10-09</td><td>02:15:00</td><td>America/Chicago</td><td>1950-10-09T08:15:00Z</td><td>NC</td><td>37</td><td>⋯</td><td>   0.00</td><td> 2.0</td><td>880</td><td>1</td><td>1</td><td> 47</td><td> 0</td><td>0</td><td>0</td><td>FALSE</td></tr>\n",
       "\t<tr><th scope=row>3</th><td>195</td><td>1950</td><td>11</td><td>20</td><td>1950-11-20</td><td>02:20:00</td><td>America/Chicago</td><td>1950-11-20T08:20:00Z</td><td>KY</td><td>21</td><td>⋯</td><td>   0.00</td><td> 0.1</td><td> 10</td><td>1</td><td>1</td><td>177</td><td> 0</td><td>0</td><td>0</td><td>FALSE</td></tr>\n",
       "\t<tr><th scope=row>4</th><td>196</td><td>1950</td><td>11</td><td>20</td><td>1950-11-20</td><td>04:00:00</td><td>America/Chicago</td><td>1950-11-20T10:00:00Z</td><td>KY</td><td>21</td><td>⋯</td><td>   0.00</td><td> 0.1</td><td> 10</td><td>1</td><td>1</td><td>209</td><td> 0</td><td>0</td><td>0</td><td>FALSE</td></tr>\n",
       "\t<tr><th scope=row>5</th><td>197</td><td>1950</td><td>11</td><td>20</td><td>1950-11-20</td><td>07:30:00</td><td>America/Chicago</td><td>1950-11-20T13:30:00Z</td><td>MS</td><td>28</td><td>⋯</td><td>   0.00</td><td> 2.0</td><td> 37</td><td>1</td><td>1</td><td>101</td><td> 0</td><td>0</td><td>0</td><td>FALSE</td></tr>\n",
       "\t<tr><th scope=row>6</th><td>194</td><td>1950</td><td>11</td><td> 4</td><td>1950-11-04</td><td>17:00:00</td><td>America/Chicago</td><td>1950-11-04T23:00:00Z</td><td>PA</td><td>42</td><td>⋯</td><td> -75.93</td><td>15.9</td><td>100</td><td>1</td><td>1</td><td> 71</td><td>11</td><td>0</td><td>0</td><td>FALSE</td></tr>\n",
       "</tbody>\n",
       "</table>\n"
      ],
      "text/latex": [
       "A data.frame: 6 × 27\n",
       "\\begin{tabular}{r|lllllllllllllllllllll}\n",
       "  & om & yr & mo & dy & date & time & tz & datetime\\_utc & st & stf & ⋯ & elon & len & wid & ns & sn & f1 & f2 & f3 & f4 & fc\\\\\n",
       "  & <int> & <int> & <int> & <int> & <chr> & <chr> & <chr> & <chr> & <chr> & <int> & ⋯ & <dbl> & <dbl> & <int> & <int> & <int> & <int> & <int> & <int> & <int> & <lgl>\\\\\n",
       "\\hline\n",
       "\t1 & 192 & 1950 & 10 &  1 & 1950-10-01 & 21:00:00 & America/Chicago & 1950-10-02T03:00:00Z & OK & 40 & ⋯ & -102.30 & 15.8 &  10 & 1 & 1 &  25 &  0 & 0 & 0 & FALSE\\\\\n",
       "\t2 & 193 & 1950 & 10 &  9 & 1950-10-09 & 02:15:00 & America/Chicago & 1950-10-09T08:15:00Z & NC & 37 & ⋯ &    0.00 &  2.0 & 880 & 1 & 1 &  47 &  0 & 0 & 0 & FALSE\\\\\n",
       "\t3 & 195 & 1950 & 11 & 20 & 1950-11-20 & 02:20:00 & America/Chicago & 1950-11-20T08:20:00Z & KY & 21 & ⋯ &    0.00 &  0.1 &  10 & 1 & 1 & 177 &  0 & 0 & 0 & FALSE\\\\\n",
       "\t4 & 196 & 1950 & 11 & 20 & 1950-11-20 & 04:00:00 & America/Chicago & 1950-11-20T10:00:00Z & KY & 21 & ⋯ &    0.00 &  0.1 &  10 & 1 & 1 & 209 &  0 & 0 & 0 & FALSE\\\\\n",
       "\t5 & 197 & 1950 & 11 & 20 & 1950-11-20 & 07:30:00 & America/Chicago & 1950-11-20T13:30:00Z & MS & 28 & ⋯ &    0.00 &  2.0 &  37 & 1 & 1 & 101 &  0 & 0 & 0 & FALSE\\\\\n",
       "\t6 & 194 & 1950 & 11 &  4 & 1950-11-04 & 17:00:00 & America/Chicago & 1950-11-04T23:00:00Z & PA & 42 & ⋯ &  -75.93 & 15.9 & 100 & 1 & 1 &  71 & 11 & 0 & 0 & FALSE\\\\\n",
       "\\end{tabular}\n"
      ],
      "text/markdown": [
       "\n",
       "A data.frame: 6 × 27\n",
       "\n",
       "| <!--/--> | om &lt;int&gt; | yr &lt;int&gt; | mo &lt;int&gt; | dy &lt;int&gt; | date &lt;chr&gt; | time &lt;chr&gt; | tz &lt;chr&gt; | datetime_utc &lt;chr&gt; | st &lt;chr&gt; | stf &lt;int&gt; | ⋯ ⋯ | elon &lt;dbl&gt; | len &lt;dbl&gt; | wid &lt;int&gt; | ns &lt;int&gt; | sn &lt;int&gt; | f1 &lt;int&gt; | f2 &lt;int&gt; | f3 &lt;int&gt; | f4 &lt;int&gt; | fc &lt;lgl&gt; |\n",
       "|---|---|---|---|---|---|---|---|---|---|---|---|---|---|---|---|---|---|---|---|---|---|\n",
       "| 1 | 192 | 1950 | 10 |  1 | 1950-10-01 | 21:00:00 | America/Chicago | 1950-10-02T03:00:00Z | OK | 40 | ⋯ | -102.30 | 15.8 |  10 | 1 | 1 |  25 |  0 | 0 | 0 | FALSE |\n",
       "| 2 | 193 | 1950 | 10 |  9 | 1950-10-09 | 02:15:00 | America/Chicago | 1950-10-09T08:15:00Z | NC | 37 | ⋯ |    0.00 |  2.0 | 880 | 1 | 1 |  47 |  0 | 0 | 0 | FALSE |\n",
       "| 3 | 195 | 1950 | 11 | 20 | 1950-11-20 | 02:20:00 | America/Chicago | 1950-11-20T08:20:00Z | KY | 21 | ⋯ |    0.00 |  0.1 |  10 | 1 | 1 | 177 |  0 | 0 | 0 | FALSE |\n",
       "| 4 | 196 | 1950 | 11 | 20 | 1950-11-20 | 04:00:00 | America/Chicago | 1950-11-20T10:00:00Z | KY | 21 | ⋯ |    0.00 |  0.1 |  10 | 1 | 1 | 209 |  0 | 0 | 0 | FALSE |\n",
       "| 5 | 197 | 1950 | 11 | 20 | 1950-11-20 | 07:30:00 | America/Chicago | 1950-11-20T13:30:00Z | MS | 28 | ⋯ |    0.00 |  2.0 |  37 | 1 | 1 | 101 |  0 | 0 | 0 | FALSE |\n",
       "| 6 | 194 | 1950 | 11 |  4 | 1950-11-04 | 17:00:00 | America/Chicago | 1950-11-04T23:00:00Z | PA | 42 | ⋯ |  -75.93 | 15.9 | 100 | 1 | 1 |  71 | 11 | 0 | 0 | FALSE |\n",
       "\n"
      ],
      "text/plain": [
       "  om  yr   mo dy date       time     tz              datetime_utc         st\n",
       "1 192 1950 10  1 1950-10-01 21:00:00 America/Chicago 1950-10-02T03:00:00Z OK\n",
       "2 193 1950 10  9 1950-10-09 02:15:00 America/Chicago 1950-10-09T08:15:00Z NC\n",
       "3 195 1950 11 20 1950-11-20 02:20:00 America/Chicago 1950-11-20T08:20:00Z KY\n",
       "4 196 1950 11 20 1950-11-20 04:00:00 America/Chicago 1950-11-20T10:00:00Z KY\n",
       "5 197 1950 11 20 1950-11-20 07:30:00 America/Chicago 1950-11-20T13:30:00Z MS\n",
       "6 194 1950 11  4 1950-11-04 17:00:00 America/Chicago 1950-11-04T23:00:00Z PA\n",
       "  stf ⋯ elon    len  wid ns sn f1  f2 f3 f4 fc   \n",
       "1 40  ⋯ -102.30 15.8  10 1  1   25  0 0  0  FALSE\n",
       "2 37  ⋯    0.00  2.0 880 1  1   47  0 0  0  FALSE\n",
       "3 21  ⋯    0.00  0.1  10 1  1  177  0 0  0  FALSE\n",
       "4 21  ⋯    0.00  0.1  10 1  1  209  0 0  0  FALSE\n",
       "5 28  ⋯    0.00  2.0  37 1  1  101  0 0  0  FALSE\n",
       "6 42  ⋯  -75.93 15.9 100 1  1   71 11 0  0  FALSE"
      ]
     },
     "metadata": {},
     "output_type": "display_data"
    }
   ],
   "source": [
    "# Load data\n",
    "URL <- \"https://raw.githubusercontent.com/rfordatascience/tidytuesday/a9e277dd77331e9091e151bb5adb584742064b3e/data/2023/2023-05-16/tornados.csv\"\n",
    "tornado_data <- read.csv(URL)\n",
    "\n",
    "head(tornado_data)"
   ]
  },
  {
   "cell_type": "code",
   "execution_count": 44,
   "id": "e7b717a6-3315-4d14-90f9-b1277929e9a5",
   "metadata": {},
   "outputs": [
    {
     "data": {
      "text/html": [
       "<table class=\"dataframe\">\n",
       "<caption>A data.frame: 6 × 18</caption>\n",
       "<thead>\n",
       "\t<tr><th></th><th scope=col>ID</th><th scope=col>year</th><th scope=col>month</th><th scope=col>day</th><th scope=col>time</th><th scope=col>datetime_utc</th><th scope=col>state</th><th scope=col>mag</th><th scope=col>injuries</th><th scope=col>fatalities</th><th scope=col>loss</th><th scope=col>start_lat</th><th scope=col>start_lon</th><th scope=col>end_lat</th><th scope=col>end_lon</th><th scope=col>length</th><th scope=col>width</th><th scope=col>ns</th></tr>\n",
       "\t<tr><th></th><th scope=col>&lt;int&gt;</th><th scope=col>&lt;int&gt;</th><th scope=col>&lt;int&gt;</th><th scope=col>&lt;int&gt;</th><th scope=col>&lt;chr&gt;</th><th scope=col>&lt;chr&gt;</th><th scope=col>&lt;chr&gt;</th><th scope=col>&lt;int&gt;</th><th scope=col>&lt;int&gt;</th><th scope=col>&lt;int&gt;</th><th scope=col>&lt;dbl&gt;</th><th scope=col>&lt;dbl&gt;</th><th scope=col>&lt;dbl&gt;</th><th scope=col>&lt;dbl&gt;</th><th scope=col>&lt;dbl&gt;</th><th scope=col>&lt;dbl&gt;</th><th scope=col>&lt;int&gt;</th><th scope=col>&lt;int&gt;</th></tr>\n",
       "</thead>\n",
       "<tbody>\n",
       "\t<tr><th scope=row>1</th><td>192</td><td>1950</td><td>10</td><td> 1</td><td>21:00:00</td><td>1950-10-02T03:00:00Z</td><td>OK</td><td>1</td><td>0</td><td>0</td><td>5e+04</td><td>36.73</td><td>-102.52</td><td>36.88</td><td>-102.30</td><td>15.8</td><td> 10</td><td>1</td></tr>\n",
       "\t<tr><th scope=row>2</th><td>193</td><td>1950</td><td>10</td><td> 9</td><td>02:15:00</td><td>1950-10-09T08:15:00Z</td><td>NC</td><td>3</td><td>3</td><td>0</td><td>5e+05</td><td>34.17</td><td> -78.60</td><td> 0.00</td><td>   0.00</td><td> 2.0</td><td>880</td><td>1</td></tr>\n",
       "\t<tr><th scope=row>3</th><td>195</td><td>1950</td><td>11</td><td>20</td><td>02:20:00</td><td>1950-11-20T08:20:00Z</td><td>KY</td><td>2</td><td>0</td><td>0</td><td>5e+05</td><td>37.37</td><td> -87.20</td><td> 0.00</td><td>   0.00</td><td> 0.1</td><td> 10</td><td>1</td></tr>\n",
       "\t<tr><th scope=row>4</th><td>196</td><td>1950</td><td>11</td><td>20</td><td>04:00:00</td><td>1950-11-20T10:00:00Z</td><td>KY</td><td>1</td><td>0</td><td>0</td><td>5e+05</td><td>38.20</td><td> -84.50</td><td> 0.00</td><td>   0.00</td><td> 0.1</td><td> 10</td><td>1</td></tr>\n",
       "\t<tr><th scope=row>5</th><td>197</td><td>1950</td><td>11</td><td>20</td><td>07:30:00</td><td>1950-11-20T13:30:00Z</td><td>MS</td><td>1</td><td>3</td><td>0</td><td>5e+04</td><td>32.42</td><td> -89.13</td><td> 0.00</td><td>   0.00</td><td> 2.0</td><td> 37</td><td>1</td></tr>\n",
       "\t<tr><th scope=row>6</th><td>194</td><td>1950</td><td>11</td><td> 4</td><td>17:00:00</td><td>1950-11-04T23:00:00Z</td><td>PA</td><td>3</td><td>1</td><td>0</td><td>5e+05</td><td>40.20</td><td> -76.12</td><td>40.40</td><td> -75.93</td><td>15.9</td><td>100</td><td>1</td></tr>\n",
       "</tbody>\n",
       "</table>\n"
      ],
      "text/latex": [
       "A data.frame: 6 × 18\n",
       "\\begin{tabular}{r|llllllllllllllllll}\n",
       "  & ID & year & month & day & time & datetime\\_utc & state & mag & injuries & fatalities & loss & start\\_lat & start\\_lon & end\\_lat & end\\_lon & length & width & ns\\\\\n",
       "  & <int> & <int> & <int> & <int> & <chr> & <chr> & <chr> & <int> & <int> & <int> & <dbl> & <dbl> & <dbl> & <dbl> & <dbl> & <dbl> & <int> & <int>\\\\\n",
       "\\hline\n",
       "\t1 & 192 & 1950 & 10 &  1 & 21:00:00 & 1950-10-02T03:00:00Z & OK & 1 & 0 & 0 & 5e+04 & 36.73 & -102.52 & 36.88 & -102.30 & 15.8 &  10 & 1\\\\\n",
       "\t2 & 193 & 1950 & 10 &  9 & 02:15:00 & 1950-10-09T08:15:00Z & NC & 3 & 3 & 0 & 5e+05 & 34.17 &  -78.60 &  0.00 &    0.00 &  2.0 & 880 & 1\\\\\n",
       "\t3 & 195 & 1950 & 11 & 20 & 02:20:00 & 1950-11-20T08:20:00Z & KY & 2 & 0 & 0 & 5e+05 & 37.37 &  -87.20 &  0.00 &    0.00 &  0.1 &  10 & 1\\\\\n",
       "\t4 & 196 & 1950 & 11 & 20 & 04:00:00 & 1950-11-20T10:00:00Z & KY & 1 & 0 & 0 & 5e+05 & 38.20 &  -84.50 &  0.00 &    0.00 &  0.1 &  10 & 1\\\\\n",
       "\t5 & 197 & 1950 & 11 & 20 & 07:30:00 & 1950-11-20T13:30:00Z & MS & 1 & 3 & 0 & 5e+04 & 32.42 &  -89.13 &  0.00 &    0.00 &  2.0 &  37 & 1\\\\\n",
       "\t6 & 194 & 1950 & 11 &  4 & 17:00:00 & 1950-11-04T23:00:00Z & PA & 3 & 1 & 0 & 5e+05 & 40.20 &  -76.12 & 40.40 &  -75.93 & 15.9 & 100 & 1\\\\\n",
       "\\end{tabular}\n"
      ],
      "text/markdown": [
       "\n",
       "A data.frame: 6 × 18\n",
       "\n",
       "| <!--/--> | ID &lt;int&gt; | year &lt;int&gt; | month &lt;int&gt; | day &lt;int&gt; | time &lt;chr&gt; | datetime_utc &lt;chr&gt; | state &lt;chr&gt; | mag &lt;int&gt; | injuries &lt;int&gt; | fatalities &lt;int&gt; | loss &lt;dbl&gt; | start_lat &lt;dbl&gt; | start_lon &lt;dbl&gt; | end_lat &lt;dbl&gt; | end_lon &lt;dbl&gt; | length &lt;dbl&gt; | width &lt;int&gt; | ns &lt;int&gt; |\n",
       "|---|---|---|---|---|---|---|---|---|---|---|---|---|---|---|---|---|---|---|\n",
       "| 1 | 192 | 1950 | 10 |  1 | 21:00:00 | 1950-10-02T03:00:00Z | OK | 1 | 0 | 0 | 5e+04 | 36.73 | -102.52 | 36.88 | -102.30 | 15.8 |  10 | 1 |\n",
       "| 2 | 193 | 1950 | 10 |  9 | 02:15:00 | 1950-10-09T08:15:00Z | NC | 3 | 3 | 0 | 5e+05 | 34.17 |  -78.60 |  0.00 |    0.00 |  2.0 | 880 | 1 |\n",
       "| 3 | 195 | 1950 | 11 | 20 | 02:20:00 | 1950-11-20T08:20:00Z | KY | 2 | 0 | 0 | 5e+05 | 37.37 |  -87.20 |  0.00 |    0.00 |  0.1 |  10 | 1 |\n",
       "| 4 | 196 | 1950 | 11 | 20 | 04:00:00 | 1950-11-20T10:00:00Z | KY | 1 | 0 | 0 | 5e+05 | 38.20 |  -84.50 |  0.00 |    0.00 |  0.1 |  10 | 1 |\n",
       "| 5 | 197 | 1950 | 11 | 20 | 07:30:00 | 1950-11-20T13:30:00Z | MS | 1 | 3 | 0 | 5e+04 | 32.42 |  -89.13 |  0.00 |    0.00 |  2.0 |  37 | 1 |\n",
       "| 6 | 194 | 1950 | 11 |  4 | 17:00:00 | 1950-11-04T23:00:00Z | PA | 3 | 1 | 0 | 5e+05 | 40.20 |  -76.12 | 40.40 |  -75.93 | 15.9 | 100 | 1 |\n",
       "\n"
      ],
      "text/plain": [
       "  ID  year month day time     datetime_utc         state mag injuries\n",
       "1 192 1950 10     1  21:00:00 1950-10-02T03:00:00Z OK    1   0       \n",
       "2 193 1950 10     9  02:15:00 1950-10-09T08:15:00Z NC    3   3       \n",
       "3 195 1950 11    20  02:20:00 1950-11-20T08:20:00Z KY    2   0       \n",
       "4 196 1950 11    20  04:00:00 1950-11-20T10:00:00Z KY    1   0       \n",
       "5 197 1950 11    20  07:30:00 1950-11-20T13:30:00Z MS    1   3       \n",
       "6 194 1950 11     4  17:00:00 1950-11-04T23:00:00Z PA    3   1       \n",
       "  fatalities loss  start_lat start_lon end_lat end_lon length width ns\n",
       "1 0          5e+04 36.73     -102.52   36.88   -102.30 15.8    10   1 \n",
       "2 0          5e+05 34.17      -78.60    0.00      0.00  2.0   880   1 \n",
       "3 0          5e+05 37.37      -87.20    0.00      0.00  0.1    10   1 \n",
       "4 0          5e+05 38.20      -84.50    0.00      0.00  0.1    10   1 \n",
       "5 0          5e+04 32.42      -89.13    0.00      0.00  2.0    37   1 \n",
       "6 0          5e+05 40.20      -76.12   40.40    -75.93 15.9   100   1 "
      ]
     },
     "metadata": {},
     "output_type": "display_data"
    }
   ],
   "source": [
    "# Wrangle and clean data\n",
    "\n",
    "# Remove irrelevant or repetitive columns, and filter for NA in magnitude\n",
    "df <- tornado_data %>%\n",
    "    select(-date, -tz, -stf, -sn, -f1, -f2, -f3, -f4, -fc) %>%\n",
    "    filter(!is.na(mag)) \n",
    "\n",
    "# Change feature names to be more descriptive\n",
    "names(df) <- c('ID','year','month','day','time','datetime_utc','state','mag','injuries',\n",
    "               'fatalities','loss','start_lat','start_lon','end_lat','end_lon','length','width','ns')\n",
    "\n",
    "head(df)"
   ]
  },
  {
   "cell_type": "markdown",
   "id": "6fe210b2-6603-47d4-a4f9-c8b0347094a4",
   "metadata": {},
   "source": [
    "# Discussion"
   ]
  },
  {
   "cell_type": "markdown",
   "id": "a72c5b4a-c816-41b6-8b1c-cecc589acb61",
   "metadata": {},
   "source": []
  },
  {
   "cell_type": "markdown",
   "id": "2f7aca0f-e4f6-43f1-87fb-dd324f85099f",
   "metadata": {},
   "source": [
    "# References"
   ]
  },
  {
   "cell_type": "markdown",
   "id": "c2c97b1a-977c-45b0-80b5-caca462680b4",
   "metadata": {},
   "source": []
  }
 ],
 "metadata": {
  "kernelspec": {
   "display_name": "R",
   "language": "R",
   "name": "ir"
  },
  "language_info": {
   "codemirror_mode": "r",
   "file_extension": ".r",
   "mimetype": "text/x-r-source",
   "name": "R",
   "pygments_lexer": "r",
   "version": "4.3.2"
  }
 },
 "nbformat": 4,
 "nbformat_minor": 5
}
